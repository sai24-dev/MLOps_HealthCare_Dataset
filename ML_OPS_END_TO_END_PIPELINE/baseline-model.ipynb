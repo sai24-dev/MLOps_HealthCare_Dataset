{
 "cells": [
  {
   "cell_type": "code",
   "execution_count": null,
   "id": "c4e2d8d8",
   "metadata": {
    "_cell_guid": "b1076dfc-b9ad-4769-8c92-a6c4dae69d19",
    "_uuid": "8f2839f25d086af736a60e9eeb907d3b93b6e0e5",
    "execution": {
     "iopub.execute_input": "2024-06-25T18:42:17.019813Z",
     "iopub.status.busy": "2024-06-25T18:42:17.019295Z",
     "iopub.status.idle": "2024-06-25T18:42:18.219711Z",
     "shell.execute_reply": "2024-06-25T18:42:18.217440Z"
    },
    "papermill": {
     "duration": 1.220006,
     "end_time": "2024-06-25T18:42:18.223272",
     "exception": false,
     "start_time": "2024-06-25T18:42:17.003266",
     "status": "completed"
    },
    "tags": []
   },
   "outputs": [],
   "source": [
    "import numpy as np \n",
    "import pandas as pd\n",
    "import matplotlib.pyplot as plt\n",
    "import seaborn as sns\n",
    "from sklearn.model_selection import train_test_split\n",
    "from sklearn.linear_model import LogisticRegression\n",
    "from sklearn.metrics import accuracy_score\n",
    "import warnings\n",
    "warnings.filterwarnings('ignore')"
   ]
  },
  {
   "cell_type": "markdown",
   "id": "ecb831b2",
   "metadata": {},
   "source": [
    "Problem Statement: Data with health care attributes and other personal details to classify if the person gets stroke or not based on their health atrributes"
   ]
  },
  {
   "cell_type": "markdown",
   "id": "e2753858",
   "metadata": {
    "papermill": {
     "duration": 0.011324,
     "end_time": "2024-06-25T18:42:18.248500",
     "exception": false,
     "start_time": "2024-06-25T18:42:18.237176",
     "status": "completed"
    },
    "tags": []
   },
   "source": [
    "# Data Loading and Analysis\n"
   ]
  },
  {
   "cell_type": "code",
   "execution_count": null,
   "id": "8874e6b2",
   "metadata": {
    "execution": {
     "iopub.execute_input": "2024-06-25T18:42:18.272459Z",
     "iopub.status.busy": "2024-06-25T18:42:18.271811Z",
     "iopub.status.idle": "2024-06-25T18:42:18.371180Z",
     "shell.execute_reply": "2024-06-25T18:42:18.369531Z"
    },
    "papermill": {
     "duration": 0.115282,
     "end_time": "2024-06-25T18:42:18.374586",
     "exception": false,
     "start_time": "2024-06-25T18:42:18.259304",
     "status": "completed"
    },
    "tags": []
   },
   "outputs": [],
   "source": [
    "data = pd.read_csv('healthcare-dataset.csv')\n",
    "data.describe()"
   ]
  },
  {
   "cell_type": "code",
   "execution_count": null,
   "id": "0b42542b",
   "metadata": {
    "execution": {
     "iopub.execute_input": "2024-06-25T18:42:18.398346Z",
     "iopub.status.busy": "2024-06-25T18:42:18.397824Z",
     "iopub.status.idle": "2024-06-25T18:42:18.430393Z",
     "shell.execute_reply": "2024-06-25T18:42:18.428738Z"
    },
    "papermill": {
     "duration": 0.048958,
     "end_time": "2024-06-25T18:42:18.434325",
     "exception": false,
     "start_time": "2024-06-25T18:42:18.385367",
     "status": "completed"
    },
    "tags": []
   },
   "outputs": [],
   "source": [
    "data.info()"
   ]
  },
  {
   "cell_type": "markdown",
   "id": "2be7f0d6",
   "metadata": {
    "papermill": {
     "duration": 0.010002,
     "end_time": "2024-06-25T18:42:18.455043",
     "exception": false,
     "start_time": "2024-06-25T18:42:18.445041",
     "status": "completed"
    },
    "tags": []
   },
   "source": [
    "** Few Early Observations**\n",
    "\n",
    "1. There are 3 binary featuers - {hypertension,heart_disease,stroke'}\n",
    "2. There are 2 numerical Features which needs normalization('Bmi, glucose_level and age')\n",
    "3. We need to convert categorical variables to numerical values.\n",
    "4. Features are less. Need to create custom featurs."
   ]
  },
  {
   "cell_type": "code",
   "execution_count": null,
   "id": "7c6bc3a7",
   "metadata": {
    "execution": {
     "iopub.execute_input": "2024-06-25T18:42:18.480700Z",
     "iopub.status.busy": "2024-06-25T18:42:18.479536Z",
     "iopub.status.idle": "2024-06-25T18:42:18.526933Z",
     "shell.execute_reply": "2024-06-25T18:42:18.525358Z"
    },
    "papermill": {
     "duration": 0.064229,
     "end_time": "2024-06-25T18:42:18.530129",
     "exception": false,
     "start_time": "2024-06-25T18:42:18.465900",
     "status": "completed"
    },
    "tags": []
   },
   "outputs": [],
   "source": [
    "#looking for some basic data discrepency\n",
    "display(data.isnull().sum())\n",
    "display(data.shape)"
   ]
  },
  {
   "cell_type": "code",
   "execution_count": null,
   "id": "b71fc05b",
   "metadata": {
    "execution": {
     "iopub.execute_input": "2024-06-25T18:42:18.554692Z",
     "iopub.status.busy": "2024-06-25T18:42:18.554214Z",
     "iopub.status.idle": "2024-06-25T18:42:21.903805Z",
     "shell.execute_reply": "2024-06-25T18:42:21.902365Z"
    },
    "papermill": {
     "duration": 3.36619,
     "end_time": "2024-06-25T18:42:21.907346",
     "exception": false,
     "start_time": "2024-06-25T18:42:18.541156",
     "status": "completed"
    },
    "tags": []
   },
   "outputs": [],
   "source": [
    "plt.style.use('ggplot')\n",
    "\n",
    "plots = ['age', 'avg_glucose_level', 'bmi']\n",
    "\n",
    "plt.figure(figsize=(15, 5))  # Adjust figsize to fit all plots comfortably\n",
    "\n",
    "for i, column in enumerate(plots):\n",
    "    plt.subplot(1, 3, i+1)\n",
    "    sns.histplot(data[column], color='black', bins='auto', kde=True)\n",
    "    plt.title(column)\n",
    "    plt.grid(True)\n",
    "\n",
    "plt.tight_layout()  \n",
    "plt.show()\n"
   ]
  },
  {
   "cell_type": "markdown",
   "id": "fae0200e",
   "metadata": {
    "papermill": {
     "duration": 0.012044,
     "end_time": "2024-06-25T18:42:21.932433",
     "exception": false,
     "start_time": "2024-06-25T18:42:21.920389",
     "status": "completed"
    },
    "tags": []
   },
   "source": [
    "**The distribution of values of avg-glucose_level is not a normal distribution**\n",
    "\n",
    "**avg_glucose_level seems to be skewed plus is multimodel distribution so MinMaxScaler and StandardScaler might not work here**"
   ]
  },
  {
   "cell_type": "markdown",
   "id": "d0541414",
   "metadata": {
    "papermill": {
     "duration": 0.011685,
     "end_time": "2024-06-25T18:42:21.956187",
     "exception": false,
     "start_time": "2024-06-25T18:42:21.944502",
     "status": "completed"
    },
    "tags": []
   },
   "source": [
    "**No duplicate values in the data**\n",
    "\n",
    "**For missing values in the BMI imputation, going to use  mean  value  for imputation as the distribution of the bmi data seems to be a normal distribution**"
   ]
  },
  {
   "cell_type": "code",
   "execution_count": null,
   "id": "3658ed2c",
   "metadata": {
    "execution": {
     "iopub.execute_input": "2024-06-25T18:42:21.983860Z",
     "iopub.status.busy": "2024-06-25T18:42:21.982837Z",
     "iopub.status.idle": "2024-06-25T18:42:22.483337Z",
     "shell.execute_reply": "2024-06-25T18:42:22.481850Z"
    },
    "papermill": {
     "duration": 0.5184,
     "end_time": "2024-06-25T18:42:22.486701",
     "exception": false,
     "start_time": "2024-06-25T18:42:21.968301",
     "status": "completed"
    },
    "tags": []
   },
   "outputs": [],
   "source": [
    "from sklearn.impute import SimpleImputer\n",
    "from sklearn.preprocessing import MinMaxScaler\n",
    "from sklearn.preprocessing import OneHotEncoder"
   ]
  },
  {
   "cell_type": "code",
   "execution_count": null,
   "id": "02ff6702",
   "metadata": {
    "execution": {
     "iopub.execute_input": "2024-06-25T18:42:22.516476Z",
     "iopub.status.busy": "2024-06-25T18:42:22.516017Z",
     "iopub.status.idle": "2024-06-25T18:42:22.535590Z",
     "shell.execute_reply": "2024-06-25T18:42:22.534136Z"
    },
    "papermill": {
     "duration": 0.038689,
     "end_time": "2024-06-25T18:42:22.539089",
     "exception": false,
     "start_time": "2024-06-25T18:42:22.500400",
     "status": "completed"
    },
    "tags": []
   },
   "outputs": [],
   "source": [
    "#1st impute/fill the missing values\n",
    "#only BMI has missing values \n",
    "imputer = SimpleImputer(strategy = 'mean')\n",
    "data['bmi']=imputer.fit_transform(data[['bmi']])\n",
    "encoded_data= data.copy()\n",
    "#2nd Scale down the numerical features\n",
    "features_to_scale=['age','bmi']\n",
    "scaler = MinMaxScaler()\n",
    "encoded_data[features_to_scale]=scaler.fit_transform(encoded_data[features_to_scale])"
   ]
  },
  {
   "cell_type": "code",
   "execution_count": null,
   "id": "292d500f",
   "metadata": {
    "execution": {
     "iopub.execute_input": "2024-06-25T18:42:22.568831Z",
     "iopub.status.busy": "2024-06-25T18:42:22.567768Z",
     "iopub.status.idle": "2024-06-25T18:42:22.584281Z",
     "shell.execute_reply": "2024-06-25T18:42:22.582820Z"
    },
    "papermill": {
     "duration": 0.034517,
     "end_time": "2024-06-25T18:42:22.587542",
     "exception": false,
     "start_time": "2024-06-25T18:42:22.553025",
     "status": "completed"
    },
    "tags": []
   },
   "outputs": [],
   "source": [
    "#as the 'avg glucose level dosent have a normal distribution hence i am usign QuantileTransformer here \n",
    "from sklearn.preprocessing import QuantileTransformer\n",
    "\n",
    "# Initialize QuantileTransformer\n",
    "scaler = QuantileTransformer(output_distribution='uniform')\n",
    "\n",
    "# Apply quantile transformation to avg_glucose_level\n",
    "encoded_data['avg_glucose_level'] = scaler.fit_transform(encoded_data[['avg_glucose_level']])\n"
   ]
  },
  {
   "cell_type": "code",
   "execution_count": null,
   "id": "4b1fdb64",
   "metadata": {
    "execution": {
     "iopub.execute_input": "2024-06-25T18:42:22.616135Z",
     "iopub.status.busy": "2024-06-25T18:42:22.615644Z",
     "iopub.status.idle": "2024-06-25T18:42:22.627510Z",
     "shell.execute_reply": "2024-06-25T18:42:22.626101Z"
    },
    "papermill": {
     "duration": 0.030642,
     "end_time": "2024-06-25T18:42:22.630765",
     "exception": false,
     "start_time": "2024-06-25T18:42:22.600123",
     "status": "completed"
    },
    "tags": []
   },
   "outputs": [],
   "source": [
    "df = encoded_data.copy()\n",
    "df.columns"
   ]
  },
  {
   "cell_type": "code",
   "execution_count": null,
   "id": "693b7b23",
   "metadata": {
    "execution": {
     "iopub.execute_input": "2024-06-25T18:42:22.658515Z",
     "iopub.status.busy": "2024-06-25T18:42:22.658031Z",
     "iopub.status.idle": "2024-06-25T18:42:22.686722Z",
     "shell.execute_reply": "2024-06-25T18:42:22.685425Z"
    },
    "papermill": {
     "duration": 0.046323,
     "end_time": "2024-06-25T18:42:22.689774",
     "exception": false,
     "start_time": "2024-06-25T18:42:22.643451",
     "status": "completed"
    },
    "tags": []
   },
   "outputs": [],
   "source": [
    "# List of columns to one-hot encode\n",
    "columns_to_encode = ['Residence_type', 'work_type', 'smoking_status','ever_married','gender']\n",
    "\n",
    "# Iterate through each column and apply pd.get_dummies\n",
    "for column in columns_to_encode:\n",
    "    encoded_column = pd.get_dummies(df[column], prefix=column)\n",
    "    df = pd.concat([df, encoded_column], axis=1)\n",
    "    df = df.drop(columns=[column],axis=1)\n",
    "\n",
    "# Convert boolean to integers\n",
    "df = df.astype(int)\n"
   ]
  },
  {
   "cell_type": "code",
   "execution_count": null,
   "id": "ed7c7881",
   "metadata": {
    "execution": {
     "iopub.execute_input": "2024-06-25T18:42:22.717756Z",
     "iopub.status.busy": "2024-06-25T18:42:22.717288Z",
     "iopub.status.idle": "2024-06-25T18:42:22.774866Z",
     "shell.execute_reply": "2024-06-25T18:42:22.773489Z"
    },
    "papermill": {
     "duration": 0.0752,
     "end_time": "2024-06-25T18:42:22.777985",
     "exception": false,
     "start_time": "2024-06-25T18:42:22.702785",
     "status": "completed"
    },
    "tags": []
   },
   "outputs": [],
   "source": [
    "df.drop('id',axis=1,inplace=True)"
   ]
  },
  {
   "cell_type": "markdown",
   "id": "8e6ac31e",
   "metadata": {
    "papermill": {
     "duration": 0.012015,
     "end_time": "2024-06-25T18:42:22.802458",
     "exception": false,
     "start_time": "2024-06-25T18:42:22.790443",
     "status": "completed"
    },
    "tags": []
   },
   "source": [
    "**The data now has around 23 features **\n",
    "\n",
    "**The dataframe 'df' now has clean data**"
   ]
  },
  {
   "cell_type": "code",
   "execution_count": null,
   "id": "3f300859",
   "metadata": {},
   "outputs": [],
   "source": [
    "df.drop(['Residence_type_Rural','work_type_Private','smoking_status_Unknown', 'smoking_status_formerly smoked',\n",
    "         'ever_married_Yes', 'gender_Male'], axis=1, inplace=True)"
   ]
  },
  {
   "cell_type": "code",
   "execution_count": null,
   "id": "26f8cd00",
   "metadata": {},
   "outputs": [],
   "source": [
    "df.columns"
   ]
  },
  {
   "cell_type": "markdown",
   "id": "f36e25f2",
   "metadata": {
    "papermill": {
     "duration": 0.011875,
     "end_time": "2024-06-25T18:42:22.826611",
     "exception": false,
     "start_time": "2024-06-25T18:42:22.814736",
     "status": "completed"
    },
    "tags": []
   },
   "source": [
    "# Data Split"
   ]
  },
  {
   "cell_type": "code",
   "execution_count": null,
   "id": "a980af8c",
   "metadata": {
    "execution": {
     "iopub.execute_input": "2024-06-25T18:42:22.853943Z",
     "iopub.status.busy": "2024-06-25T18:42:22.853499Z",
     "iopub.status.idle": "2024-06-25T18:42:22.866011Z",
     "shell.execute_reply": "2024-06-25T18:42:22.864996Z"
    },
    "papermill": {
     "duration": 0.029436,
     "end_time": "2024-06-25T18:42:22.869130",
     "exception": false,
     "start_time": "2024-06-25T18:42:22.839694",
     "status": "completed"
    },
    "tags": []
   },
   "outputs": [],
   "source": [
    "X = df.drop('stroke',axis=1)\n",
    "y = df['stroke']\n",
    "X_train,X_valid,y_train,y_valid = train_test_split(X,y,test_size = 0.2,random_state=42) \n"
   ]
  },
  {
   "cell_type": "markdown",
   "id": "abafbaf2",
   "metadata": {
    "papermill": {
     "duration": 0.012184,
     "end_time": "2024-06-25T18:42:22.893990",
     "exception": false,
     "start_time": "2024-06-25T18:42:22.881806",
     "status": "completed"
    },
    "tags": []
   },
   "source": [
    "# Model Selection"
   ]
  },
  {
   "cell_type": "markdown",
   "id": "98d116d4",
   "metadata": {
    "papermill": {
     "duration": 0.012896,
     "end_time": "2024-06-25T18:42:23.074593",
     "exception": false,
     "start_time": "2024-06-25T18:42:23.061697",
     "status": "completed"
    },
    "tags": []
   },
   "source": [
    "**Train Logistic Regression Classifier**"
   ]
  },
  {
   "cell_type": "code",
   "execution_count": null,
   "id": "6407e575",
   "metadata": {
    "execution": {
     "iopub.execute_input": "2024-06-25T18:42:28.205826Z",
     "iopub.status.busy": "2024-06-25T18:42:28.205336Z",
     "iopub.status.idle": "2024-06-25T18:42:28.289859Z",
     "shell.execute_reply": "2024-06-25T18:42:28.287961Z"
    },
    "papermill": {
     "duration": 0.104998,
     "end_time": "2024-06-25T18:42:28.294463",
     "exception": false,
     "start_time": "2024-06-25T18:42:28.189465",
     "status": "completed"
    },
    "tags": []
   },
   "outputs": [],
   "source": [
    "# Instantiate Logistic Regression model\n",
    "logreg = LogisticRegression()\n",
    "\n",
    "# Train the model\n",
    "logreg.fit(X_train, y_train)\n"
   ]
  },
  {
   "cell_type": "markdown",
   "id": "b954f13b",
   "metadata": {},
   "source": [
    "Predict the model output"
   ]
  },
  {
   "cell_type": "code",
   "execution_count": null,
   "id": "cf47183b",
   "metadata": {},
   "outputs": [],
   "source": [
    "\n",
    "# Predict on validation set\n",
    "y_pred = logreg.predict(X_valid)\n",
    "\n",
    "# Calculate accuracy\n",
    "accuracy = accuracy_score(y_valid, y_pred)\n",
    "print(f'Accuracy: {accuracy}')"
   ]
  }
 ],
 "metadata": {
  "kaggle": {
   "accelerator": "none",
   "dataSources": [
    {
     "datasetId": 1120859,
     "sourceId": 1882037,
     "sourceType": "datasetVersion"
    }
   ],
   "dockerImageVersionId": 30732,
   "isGpuEnabled": false,
   "isInternetEnabled": true,
   "language": "python",
   "sourceType": "notebook"
  },
  "kernelspec": {
   "display_name": "Python 3 (ipykernel)",
   "language": "python",
   "name": "python3"
  },
  "language_info": {
   "codemirror_mode": {
    "name": "ipython",
    "version": 3
   },
   "file_extension": ".py",
   "mimetype": "text/x-python",
   "name": "python",
   "nbconvert_exporter": "python",
   "pygments_lexer": "ipython3",
   "version": "3.10.13"
  },
  "papermill": {
   "default_parameters": {},
   "duration": 16.614442,
   "end_time": "2024-06-25T18:42:30.022664",
   "environment_variables": {},
   "exception": null,
   "input_path": "__notebook__.ipynb",
   "output_path": "__notebook__.ipynb",
   "parameters": {},
   "start_time": "2024-06-25T18:42:13.408222",
   "version": "2.5.0"
  }
 },
 "nbformat": 4,
 "nbformat_minor": 5
}
