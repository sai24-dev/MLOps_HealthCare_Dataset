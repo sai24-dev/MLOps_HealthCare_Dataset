{
 "cells": [
  {
   "cell_type": "code",
   "execution_count": null,
   "id": "37aefd8e-74a7-48e4-ac95-003d98cb0789",
   "metadata": {},
   "outputs": [],
   "source": [
    "from mlflow.tracking import MlflowClient\n",
    "\n",
    "MLFLOW_TRACKING_URI = \"sqlite:///mlflow.db\""
   ]
  },
  {
   "cell_type": "code",
   "execution_count": null,
   "id": "b016dc6f-9959-4141-baa5-a3382a27186a",
   "metadata": {},
   "outputs": [],
   "source": [
    "client = MlflowClient(tracking_uri=MLFLOW_TRACKING_URI)"
   ]
  },
  {
   "cell_type": "code",
   "execution_count": null,
   "id": "53087173-b0af-4be8-a9c0-6f0da5e40e26",
   "metadata": {},
   "outputs": [],
   "source": [
    "client.search_experiments()"
   ]
  },
  {
   "cell_type": "code",
   "execution_count": null,
   "id": "a5a470fb-8000-4982-aad9-8a4793be0eea",
   "metadata": {},
   "outputs": [],
   "source": [
    "from mlflow.entities import ViewType\n",
    "\n",
    "runs = client.search_runs(\n",
    "    experiment_ids='1',\n",
    "    filter_string=\"metrics.accuracy < 7\",\n",
    "    run_view_type=ViewType.ACTIVE_ONLY,\n",
    "    max_results=5,\n",
    "    order_by=[\"metrics.accuracy ASC\"]\n",
    ")"
   ]
  },
  {
   "cell_type": "code",
   "execution_count": null,
   "id": "a55ec05d-f95b-458e-95c5-43f2fc982d69",
   "metadata": {},
   "outputs": [],
   "source": [
    "for run in runs:\n",
    "    print(f\"run id: {run.info.run_id}, accuracy: {run.data.metrics['accuracy']:.4f}\")"
   ]
  },
  {
   "cell_type": "markdown",
   "id": "20ef0b42-d303-4717-90df-1f0fade5d516",
   "metadata": {},
   "source": [
    "Interacting with Model Registry"
   ]
  },
  {
   "cell_type": "code",
   "execution_count": null,
   "id": "9a7fab2e-c79f-4267-a35f-2bc04f4154ba",
   "metadata": {},
   "outputs": [],
   "source": [
    "import mlflow\n",
    "\n",
    "mlflow.set_tracking_uri(MLFLOW_TRACKING_URI)"
   ]
  },
  {
   "cell_type": "code",
   "execution_count": null,
   "id": "d735f34d-65ac-49ff-9c40-8543dbed0244",
   "metadata": {},
   "outputs": [],
   "source": [
    "run_id = \"45490009a7864814b3b4b0fdad5a8d52\"\n",
    "model_uri = f\"runs:/{run_id}/model\"\n",
    "mlflow.register_model(model_uri=model_uri, name=\"project-health-stroke\")"
   ]
  },
  {
   "cell_type": "code",
   "execution_count": null,
   "id": "52c303af-e22c-4556-a6da-8d9f71ae41cd",
   "metadata": {},
   "outputs": [],
   "source": [
    "client.search_registered_models()"
   ]
  },
  {
   "cell_type": "markdown",
   "id": "6da68efb-12a8-481f-a615-1d2c144470b4",
   "metadata": {},
   "source": [
    "Verify the models registered wrt its stages"
   ]
  },
  {
   "cell_type": "code",
   "execution_count": null,
   "id": "109c13fa-861b-4340-bf60-a8f58376be3d",
   "metadata": {},
   "outputs": [],
   "source": [
    "model_name = \"project-health-stroke\"\n",
    "latest_versions = client.get_latest_versions(name=model_name)\n",
    "\n",
    "for version in latest_versions:\n",
    "    print(f\"version: {version.version}, stage: {version.current_stage}\")"
   ]
  },
  {
   "cell_type": "markdown",
   "id": "dcc49ac6-9aeb-49f6-ac8c-53251987d032",
   "metadata": {},
   "source": [
    "Manually transition the stage of particular version of model"
   ]
  },
  {
   "cell_type": "code",
   "execution_count": null,
   "id": "6537d424-fde4-4071-b8e1-97153e027855",
   "metadata": {},
   "outputs": [],
   "source": [
    "model_version = 1\n",
    "new_stage = \"Staging\"\n",
    "client.transition_model_version_stage(\n",
    "    name=model_name,\n",
    "    version=model_version,\n",
    "    stage=new_stage,\n",
    "    archive_existing_versions=False\n",
    ")"
   ]
  },
  {
   "cell_type": "markdown",
   "id": "8b97488e-30d5-41d3-9121-d9a2a92e4509",
   "metadata": {},
   "source": [
    "Update the registered models with its transition details wrt date and time\n",
    "\n",
    "It is like a description"
   ]
  },
  {
   "cell_type": "code",
   "execution_count": null,
   "id": "718e7260-0f43-4a96-9c10-1158a8e22838",
   "metadata": {},
   "outputs": [],
   "source": [
    "from datetime import datetime\n",
    "\n",
    "date = datetime.today().date()\n",
    "client.update_model_version(\n",
    "    name=model_name,\n",
    "    version=model_version,\n",
    "    description=f\"The model version {model_version} was transitioned to {new_stage} on {date}\"\n",
    ")"
   ]
  },
  {
   "cell_type": "code",
   "execution_count": null,
   "id": "f20edbc2-8d9b-4fa6-9cd6-d5d7c0f1f28a",
   "metadata": {},
   "outputs": [],
   "source": []
  },
  {
   "cell_type": "markdown",
   "id": "03ceb32f-0ea7-4224-b42d-01ff42b1dd50",
   "metadata": {},
   "source": [
    "Check the staged version code rmse is predicted good with the test data and move to production\n",
    "\n",
    "we can move to prod and also can check the predictions"
   ]
  },
  {
   "cell_type": "code",
   "execution_count": null,
   "id": "6db20d57-56b9-40d9-83bb-9daf26398dff",
   "metadata": {},
   "outputs": [],
   "source": [
    "'''\n",
    "client.transition_model_version_stage(\n",
    "    name=model_name,\n",
    "    version=1,\n",
    "    stage=\"Production\",\n",
    "    archive_existing_versions=True\n",
    ")\n",
    "'''"
   ]
  }
 ],
 "metadata": {
  "kernelspec": {
   "display_name": "Python 3 (ipykernel)",
   "language": "python",
   "name": "python3"
  },
  "language_info": {
   "codemirror_mode": {
    "name": "ipython",
    "version": 3
   },
   "file_extension": ".py",
   "mimetype": "text/x-python",
   "name": "python",
   "nbconvert_exporter": "python",
   "pygments_lexer": "ipython3",
   "version": "3.9.19"
  }
 },
 "nbformat": 4,
 "nbformat_minor": 5
}
