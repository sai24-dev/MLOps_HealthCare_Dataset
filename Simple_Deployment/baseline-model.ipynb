{
 "cells": [
  {
   "cell_type": "code",
   "execution_count": 2,
   "id": "c4e2d8d8",
   "metadata": {
    "_cell_guid": "b1076dfc-b9ad-4769-8c92-a6c4dae69d19",
    "_uuid": "8f2839f25d086af736a60e9eeb907d3b93b6e0e5",
    "execution": {
     "iopub.execute_input": "2024-06-25T18:42:17.019813Z",
     "iopub.status.busy": "2024-06-25T18:42:17.019295Z",
     "iopub.status.idle": "2024-06-25T18:42:18.219711Z",
     "shell.execute_reply": "2024-06-25T18:42:18.217440Z"
    },
    "papermill": {
     "duration": 1.220006,
     "end_time": "2024-06-25T18:42:18.223272",
     "exception": false,
     "start_time": "2024-06-25T18:42:17.003266",
     "status": "completed"
    },
    "tags": []
   },
   "outputs": [],
   "source": [
    "import numpy as np \n",
    "import pandas as pd\n",
    "import matplotlib.pyplot as plt\n",
    "import seaborn as sns\n",
    "from sklearn.model_selection import train_test_split\n",
    "from sklearn.linear_model import LogisticRegression\n",
    "from sklearn.metrics import accuracy_score\n",
    "import warnings\n",
    "warnings.filterwarnings('ignore')"
   ]
  },
  {
   "cell_type": "markdown",
   "id": "ecb831b2",
   "metadata": {},
   "source": [
    "Problem Statement: Data with health care attributes and other personal details to classify if the person gets stroke or not based on their health atrributes"
   ]
  },
  {
   "cell_type": "markdown",
   "id": "e2753858",
   "metadata": {
    "papermill": {
     "duration": 0.011324,
     "end_time": "2024-06-25T18:42:18.248500",
     "exception": false,
     "start_time": "2024-06-25T18:42:18.237176",
     "status": "completed"
    },
    "tags": []
   },
   "source": [
    "# Data Loading and Analysis\n"
   ]
  },
  {
   "cell_type": "code",
   "execution_count": 3,
   "id": "8874e6b2",
   "metadata": {
    "execution": {
     "iopub.execute_input": "2024-06-25T18:42:18.272459Z",
     "iopub.status.busy": "2024-06-25T18:42:18.271811Z",
     "iopub.status.idle": "2024-06-25T18:42:18.371180Z",
     "shell.execute_reply": "2024-06-25T18:42:18.369531Z"
    },
    "papermill": {
     "duration": 0.115282,
     "end_time": "2024-06-25T18:42:18.374586",
     "exception": false,
     "start_time": "2024-06-25T18:42:18.259304",
     "status": "completed"
    },
    "tags": []
   },
   "outputs": [
    {
     "data": {
      "text/html": [
       "<div>\n",
       "<style scoped>\n",
       "    .dataframe tbody tr th:only-of-type {\n",
       "        vertical-align: middle;\n",
       "    }\n",
       "\n",
       "    .dataframe tbody tr th {\n",
       "        vertical-align: top;\n",
       "    }\n",
       "\n",
       "    .dataframe thead th {\n",
       "        text-align: right;\n",
       "    }\n",
       "</style>\n",
       "<table border=\"1\" class=\"dataframe\">\n",
       "  <thead>\n",
       "    <tr style=\"text-align: right;\">\n",
       "      <th></th>\n",
       "      <th>id</th>\n",
       "      <th>age</th>\n",
       "      <th>hypertension</th>\n",
       "      <th>heart_disease</th>\n",
       "      <th>avg_glucose_level</th>\n",
       "      <th>bmi</th>\n",
       "      <th>stroke</th>\n",
       "    </tr>\n",
       "  </thead>\n",
       "  <tbody>\n",
       "    <tr>\n",
       "      <th>count</th>\n",
       "      <td>5110.000000</td>\n",
       "      <td>5110.000000</td>\n",
       "      <td>5110.000000</td>\n",
       "      <td>5110.000000</td>\n",
       "      <td>5110.000000</td>\n",
       "      <td>4909.000000</td>\n",
       "      <td>5110.000000</td>\n",
       "    </tr>\n",
       "    <tr>\n",
       "      <th>mean</th>\n",
       "      <td>36517.829354</td>\n",
       "      <td>43.226614</td>\n",
       "      <td>0.097456</td>\n",
       "      <td>0.054012</td>\n",
       "      <td>106.147677</td>\n",
       "      <td>28.893237</td>\n",
       "      <td>0.048728</td>\n",
       "    </tr>\n",
       "    <tr>\n",
       "      <th>std</th>\n",
       "      <td>21161.721625</td>\n",
       "      <td>22.612647</td>\n",
       "      <td>0.296607</td>\n",
       "      <td>0.226063</td>\n",
       "      <td>45.283560</td>\n",
       "      <td>7.854067</td>\n",
       "      <td>0.215320</td>\n",
       "    </tr>\n",
       "    <tr>\n",
       "      <th>min</th>\n",
       "      <td>67.000000</td>\n",
       "      <td>0.080000</td>\n",
       "      <td>0.000000</td>\n",
       "      <td>0.000000</td>\n",
       "      <td>55.120000</td>\n",
       "      <td>10.300000</td>\n",
       "      <td>0.000000</td>\n",
       "    </tr>\n",
       "    <tr>\n",
       "      <th>25%</th>\n",
       "      <td>17741.250000</td>\n",
       "      <td>25.000000</td>\n",
       "      <td>0.000000</td>\n",
       "      <td>0.000000</td>\n",
       "      <td>77.245000</td>\n",
       "      <td>23.500000</td>\n",
       "      <td>0.000000</td>\n",
       "    </tr>\n",
       "    <tr>\n",
       "      <th>50%</th>\n",
       "      <td>36932.000000</td>\n",
       "      <td>45.000000</td>\n",
       "      <td>0.000000</td>\n",
       "      <td>0.000000</td>\n",
       "      <td>91.885000</td>\n",
       "      <td>28.100000</td>\n",
       "      <td>0.000000</td>\n",
       "    </tr>\n",
       "    <tr>\n",
       "      <th>75%</th>\n",
       "      <td>54682.000000</td>\n",
       "      <td>61.000000</td>\n",
       "      <td>0.000000</td>\n",
       "      <td>0.000000</td>\n",
       "      <td>114.090000</td>\n",
       "      <td>33.100000</td>\n",
       "      <td>0.000000</td>\n",
       "    </tr>\n",
       "    <tr>\n",
       "      <th>max</th>\n",
       "      <td>72940.000000</td>\n",
       "      <td>82.000000</td>\n",
       "      <td>1.000000</td>\n",
       "      <td>1.000000</td>\n",
       "      <td>271.740000</td>\n",
       "      <td>97.600000</td>\n",
       "      <td>1.000000</td>\n",
       "    </tr>\n",
       "  </tbody>\n",
       "</table>\n",
       "</div>"
      ],
      "text/plain": [
       "                 id          age  hypertension  heart_disease  \\\n",
       "count   5110.000000  5110.000000   5110.000000    5110.000000   \n",
       "mean   36517.829354    43.226614      0.097456       0.054012   \n",
       "std    21161.721625    22.612647      0.296607       0.226063   \n",
       "min       67.000000     0.080000      0.000000       0.000000   \n",
       "25%    17741.250000    25.000000      0.000000       0.000000   \n",
       "50%    36932.000000    45.000000      0.000000       0.000000   \n",
       "75%    54682.000000    61.000000      0.000000       0.000000   \n",
       "max    72940.000000    82.000000      1.000000       1.000000   \n",
       "\n",
       "       avg_glucose_level          bmi       stroke  \n",
       "count        5110.000000  4909.000000  5110.000000  \n",
       "mean          106.147677    28.893237     0.048728  \n",
       "std            45.283560     7.854067     0.215320  \n",
       "min            55.120000    10.300000     0.000000  \n",
       "25%            77.245000    23.500000     0.000000  \n",
       "50%            91.885000    28.100000     0.000000  \n",
       "75%           114.090000    33.100000     0.000000  \n",
       "max           271.740000    97.600000     1.000000  "
      ]
     },
     "execution_count": 3,
     "metadata": {},
     "output_type": "execute_result"
    }
   ],
   "source": [
    "data = pd.read_csv('/workspaces/MLOps_HealthCare_Dataset/Simple_Deployment/healthcare-dataset.csv')\n",
    "data.describe()"
   ]
  },
  {
   "cell_type": "code",
   "execution_count": 4,
   "id": "0b42542b",
   "metadata": {
    "execution": {
     "iopub.execute_input": "2024-06-25T18:42:18.398346Z",
     "iopub.status.busy": "2024-06-25T18:42:18.397824Z",
     "iopub.status.idle": "2024-06-25T18:42:18.430393Z",
     "shell.execute_reply": "2024-06-25T18:42:18.428738Z"
    },
    "papermill": {
     "duration": 0.048958,
     "end_time": "2024-06-25T18:42:18.434325",
     "exception": false,
     "start_time": "2024-06-25T18:42:18.385367",
     "status": "completed"
    },
    "tags": []
   },
   "outputs": [
    {
     "name": "stdout",
     "output_type": "stream",
     "text": [
      "<class 'pandas.core.frame.DataFrame'>\n",
      "RangeIndex: 5110 entries, 0 to 5109\n",
      "Data columns (total 12 columns):\n",
      " #   Column             Non-Null Count  Dtype  \n",
      "---  ------             --------------  -----  \n",
      " 0   id                 5110 non-null   int64  \n",
      " 1   gender             5110 non-null   object \n",
      " 2   age                5110 non-null   float64\n",
      " 3   hypertension       5110 non-null   int64  \n",
      " 4   heart_disease      5110 non-null   int64  \n",
      " 5   ever_married       5110 non-null   object \n",
      " 6   work_type          5110 non-null   object \n",
      " 7   Residence_type     5110 non-null   object \n",
      " 8   avg_glucose_level  5110 non-null   float64\n",
      " 9   bmi                4909 non-null   float64\n",
      " 10  smoking_status     5110 non-null   object \n",
      " 11  stroke             5110 non-null   int64  \n",
      "dtypes: float64(3), int64(4), object(5)\n",
      "memory usage: 479.2+ KB\n"
     ]
    }
   ],
   "source": [
    "data.info()"
   ]
  },
  {
   "cell_type": "markdown",
   "id": "2be7f0d6",
   "metadata": {
    "papermill": {
     "duration": 0.010002,
     "end_time": "2024-06-25T18:42:18.455043",
     "exception": false,
     "start_time": "2024-06-25T18:42:18.445041",
     "status": "completed"
    },
    "tags": []
   },
   "source": [
    "** Few Early Observations**\n",
    "\n",
    "1. There are 3 binary featuers - {hypertension,heart_disease,stroke'}\n",
    "2. There are 2 numerical Features which needs normalization('Bmi, glucose_level and age')\n",
    "3. We need to convert categorical variables to numerical values.\n",
    "4. Features are less. Need to create custom featurs."
   ]
  },
  {
   "cell_type": "code",
   "execution_count": 5,
   "id": "7c6bc3a7",
   "metadata": {
    "execution": {
     "iopub.execute_input": "2024-06-25T18:42:18.480700Z",
     "iopub.status.busy": "2024-06-25T18:42:18.479536Z",
     "iopub.status.idle": "2024-06-25T18:42:18.526933Z",
     "shell.execute_reply": "2024-06-25T18:42:18.525358Z"
    },
    "papermill": {
     "duration": 0.064229,
     "end_time": "2024-06-25T18:42:18.530129",
     "exception": false,
     "start_time": "2024-06-25T18:42:18.465900",
     "status": "completed"
    },
    "tags": []
   },
   "outputs": [
    {
     "data": {
      "text/plain": [
       "id                     0\n",
       "gender                 0\n",
       "age                    0\n",
       "hypertension           0\n",
       "heart_disease          0\n",
       "ever_married           0\n",
       "work_type              0\n",
       "Residence_type         0\n",
       "avg_glucose_level      0\n",
       "bmi                  201\n",
       "smoking_status         0\n",
       "stroke                 0\n",
       "dtype: int64"
      ]
     },
     "metadata": {},
     "output_type": "display_data"
    },
    {
     "data": {
      "text/plain": [
       "(5110, 12)"
      ]
     },
     "metadata": {},
     "output_type": "display_data"
    }
   ],
   "source": [
    "#looking for some basic data discrepency\n",
    "display(data.isnull().sum())\n",
    "display(data.shape)"
   ]
  },
  {
   "cell_type": "code",
   "execution_count": 6,
   "id": "b71fc05b",
   "metadata": {
    "execution": {
     "iopub.execute_input": "2024-06-25T18:42:18.554692Z",
     "iopub.status.busy": "2024-06-25T18:42:18.554214Z",
     "iopub.status.idle": "2024-06-25T18:42:21.903805Z",
     "shell.execute_reply": "2024-06-25T18:42:21.902365Z"
    },
    "papermill": {
     "duration": 3.36619,
     "end_time": "2024-06-25T18:42:21.907346",
     "exception": false,
     "start_time": "2024-06-25T18:42:18.541156",
     "status": "completed"
    },
    "tags": []
   },
   "outputs": [
    {
     "data": {
      "image/png": "[encoded data removed]",
      "text/plain": [
       "<Figure size 1500x500 with 3 Axes>"
      ]
     },
     "metadata": {},
     "output_type": "display_data"
    }
   ],
   "source": [
    "plt.style.use('ggplot')\n",
    "\n",
    "plots = ['age', 'avg_glucose_level', 'bmi']\n",
    "\n",
    "plt.figure(figsize=(15, 5))  # Adjust figsize to fit all plots comfortably\n",
    "\n",
    "for i, column in enumerate(plots):\n",
    "    plt.subplot(1, 3, i+1)\n",
    "    sns.histplot(data[column], color='black', bins='auto', kde=True)\n",
    "    plt.title(column)\n",
    "    plt.grid(True)\n",
    "\n",
    "plt.tight_layout()  \n",
    "plt.show()\n"
   ]
  },
  {
   "cell_type": "markdown",
   "id": "fae0200e",
   "metadata": {
    "papermill": {
     "duration": 0.012044,
     "end_time": "2024-06-25T18:42:21.932433",
     "exception": false,
     "start_time": "2024-06-25T18:42:21.920389",
     "status": "completed"
    },
    "tags": []
   },
   "source": [
    "**The distribution of values of avg-glucose_level is not a normal distribution**\n",
    "\n",
    "**avg_glucose_level seems to be skewed plus is multimodel distribution so MinMaxScaler and StandardScaler might not work here**"
   ]
  },
  {
   "cell_type": "markdown",
   "id": "d0541414",
   "metadata": {
    "papermill": {
     "duration": 0.011685,
     "end_time": "2024-06-25T18:42:21.956187",
     "exception": false,
     "start_time": "2024-06-25T18:42:21.944502",
     "status": "completed"
    },
    "tags": []
   },
   "source": [
    "**No duplicate values in the data**\n",
    "\n",
    "**For missing values in the BMI imputation, going to use  mean  value  for imputation as the distribution of the bmi data seems to be a normal distribution**"
   ]
  },
  {
   "cell_type": "code",
   "execution_count": 7,
   "id": "3658ed2c",
   "metadata": {
    "execution": {
     "iopub.execute_input": "2024-06-25T18:42:21.983860Z",
     "iopub.status.busy": "2024-06-25T18:42:21.982837Z",
     "iopub.status.idle": "2024-06-25T18:42:22.483337Z",
     "shell.execute_reply": "2024-06-25T18:42:22.481850Z"
    },
    "papermill": {
     "duration": 0.5184,
     "end_time": "2024-06-25T18:42:22.486701",
     "exception": false,
     "start_time": "2024-06-25T18:42:21.968301",
     "status": "completed"
    },
    "tags": []
   },
   "outputs": [],
   "source": [
    "from sklearn.impute import SimpleImputer\n",
    "from sklearn.preprocessing import MinMaxScaler\n",
    "from sklearn.preprocessing import OneHotEncoder"
   ]
  },
  {
   "cell_type": "code",
   "execution_count": 8,
   "id": "02ff6702",
   "metadata": {
    "execution": {
     "iopub.execute_input": "2024-06-25T18:42:22.516476Z",
     "iopub.status.busy": "2024-06-25T18:42:22.516017Z",
     "iopub.status.idle": "2024-06-25T18:42:22.535590Z",
     "shell.execute_reply": "2024-06-25T18:42:22.534136Z"
    },
    "papermill": {
     "duration": 0.038689,
     "end_time": "2024-06-25T18:42:22.539089",
     "exception": false,
     "start_time": "2024-06-25T18:42:22.500400",
     "status": "completed"
    },
    "tags": []
   },
   "outputs": [],
   "source": [
    "#1st impute/fill the missing values\n",
    "#only BMI has missing values \n",
    "imputer = SimpleImputer(strategy = 'mean')\n",
    "data['bmi']=imputer.fit_transform(data[['bmi']])\n",
    "encoded_data= data.copy()\n",
    "#2nd Scale down the numerical features\n",
    "features_to_scale=['age','bmi']\n",
    "scaler = MinMaxScaler()\n",
    "encoded_data[features_to_scale]=scaler.fit_transform(encoded_data[features_to_scale])"
   ]
  },
  {
   "cell_type": "code",
   "execution_count": 9,
   "id": "292d500f",
   "metadata": {
    "execution": {
     "iopub.execute_input": "2024-06-25T18:42:22.568831Z",
     "iopub.status.busy": "2024-06-25T18:42:22.567768Z",
     "iopub.status.idle": "2024-06-25T18:42:22.584281Z",
     "shell.execute_reply": "2024-06-25T18:42:22.582820Z"
    },
    "papermill": {
     "duration": 0.034517,
     "end_time": "2024-06-25T18:42:22.587542",
     "exception": false,
     "start_time": "2024-06-25T18:42:22.553025",
     "status": "completed"
    },
    "tags": []
   },
   "outputs": [],
   "source": [
    "#as the 'avg glucose level dosent have a normal distribution hence i am usign QuantileTransformer here \n",
    "from sklearn.preprocessing import QuantileTransformer\n",
    "\n",
    "# Initialize QuantileTransformer\n",
    "scaler = QuantileTransformer(output_distribution='uniform')\n",
    "\n",
    "# Apply quantile transformation to avg_glucose_level\n",
    "encoded_data['avg_glucose_level'] = scaler.fit_transform(encoded_data[['avg_glucose_level']])\n"
   ]
  },
  {
   "cell_type": "code",
   "execution_count": 10,
   "id": "4b1fdb64",
   "metadata": {
    "execution": {
     "iopub.execute_input": "2024-06-25T18:42:22.616135Z",
     "iopub.status.busy": "2024-06-25T18:42:22.615644Z",
     "iopub.status.idle": "2024-06-25T18:42:22.627510Z",
     "shell.execute_reply": "2024-06-25T18:42:22.626101Z"
    },
    "papermill": {
     "duration": 0.030642,
     "end_time": "2024-06-25T18:42:22.630765",
     "exception": false,
     "start_time": "2024-06-25T18:42:22.600123",
     "status": "completed"
    },
    "tags": []
   },
   "outputs": [
    {
     "data": {
      "text/plain": [
       "Index(['id', 'gender', 'age', 'hypertension', 'heart_disease', 'ever_married',\n",
       "       'work_type', 'Residence_type', 'avg_glucose_level', 'bmi',\n",
       "       'smoking_status', 'stroke'],\n",
       "      dtype='object')"
      ]
     },
     "execution_count": 10,
     "metadata": {},
     "output_type": "execute_result"
    }
   ],
   "source": [
    "df = encoded_data.copy()\n",
    "df.columns"
   ]
  },
  {
   "cell_type": "code",
   "execution_count": 11,
   "id": "693b7b23",
   "metadata": {
    "execution": {
     "iopub.execute_input": "2024-06-25T18:42:22.658515Z",
     "iopub.status.busy": "2024-06-25T18:42:22.658031Z",
     "iopub.status.idle": "2024-06-25T18:42:22.686722Z",
     "shell.execute_reply": "2024-06-25T18:42:22.685425Z"
    },
    "papermill": {
     "duration": 0.046323,
     "end_time": "2024-06-25T18:42:22.689774",
     "exception": false,
     "start_time": "2024-06-25T18:42:22.643451",
     "status": "completed"
    },
    "tags": []
   },
   "outputs": [],
   "source": [
    "# List of columns to one-hot encode\n",
    "columns_to_encode = ['Residence_type', 'work_type', 'smoking_status','ever_married','gender']\n",
    "\n",
    "# Iterate through each column and apply pd.get_dummies\n",
    "for column in columns_to_encode:\n",
    "    encoded_column = pd.get_dummies(df[column], prefix=column)\n",
    "    df = pd.concat([df, encoded_column], axis=1)\n",
    "    df = df.drop(columns=[column],axis=1)\n",
    "\n",
    "# Convert boolean to integers\n",
    "df = df.astype(int)\n"
   ]
  },
  {
   "cell_type": "code",
   "execution_count": 12,
   "id": "ed7c7881",
   "metadata": {
    "execution": {
     "iopub.execute_input": "2024-06-25T18:42:22.717756Z",
     "iopub.status.busy": "2024-06-25T18:42:22.717288Z",
     "iopub.status.idle": "2024-06-25T18:42:22.774866Z",
     "shell.execute_reply": "2024-06-25T18:42:22.773489Z"
    },
    "papermill": {
     "duration": 0.0752,
     "end_time": "2024-06-25T18:42:22.777985",
     "exception": false,
     "start_time": "2024-06-25T18:42:22.702785",
     "status": "completed"
    },
    "tags": []
   },
   "outputs": [],
   "source": [
    "df.drop('id',axis=1,inplace=True)"
   ]
  },
  {
   "cell_type": "markdown",
   "id": "8e6ac31e",
   "metadata": {
    "papermill": {
     "duration": 0.012015,
     "end_time": "2024-06-25T18:42:22.802458",
     "exception": false,
     "start_time": "2024-06-25T18:42:22.790443",
     "status": "completed"
    },
    "tags": []
   },
   "source": [
    "**The data now has around 23 features **\n",
    "\n",
    "**The dataframe 'df' now has clean data**"
   ]
  },
  {
   "cell_type": "code",
   "execution_count": 13,
   "id": "3f300859",
   "metadata": {},
   "outputs": [],
   "source": [
    "df.drop(['Residence_type_Rural','work_type_Private','smoking_status_Unknown', 'smoking_status_formerly smoked',\n",
    "         'ever_married_Yes', 'gender_Male'], axis=1, inplace=True)"
   ]
  },
  {
   "cell_type": "code",
   "execution_count": 14,
   "id": "26f8cd00",
   "metadata": {},
   "outputs": [
    {
     "data": {
      "text/plain": [
       "Index(['age', 'hypertension', 'heart_disease', 'avg_glucose_level', 'bmi',\n",
       "       'stroke', 'Residence_type_Urban', 'work_type_Govt_job',\n",
       "       'work_type_Never_worked', 'work_type_Self-employed',\n",
       "       'work_type_children', 'smoking_status_never smoked',\n",
       "       'smoking_status_smokes', 'ever_married_No', 'gender_Female',\n",
       "       'gender_Other'],\n",
       "      dtype='object')"
      ]
     },
     "execution_count": 14,
     "metadata": {},
     "output_type": "execute_result"
    }
   ],
   "source": [
    "df.columns"
   ]
  },
  {
   "cell_type": "markdown",
   "id": "f36e25f2",
   "metadata": {
    "papermill": {
     "duration": 0.011875,
     "end_time": "2024-06-25T18:42:22.826611",
     "exception": false,
     "start_time": "2024-06-25T18:42:22.814736",
     "status": "completed"
    },
    "tags": []
   },
   "source": [
    "# Data Split"
   ]
  },
  {
   "cell_type": "code",
   "execution_count": 15,
   "id": "a980af8c",
   "metadata": {
    "execution": {
     "iopub.execute_input": "2024-06-25T18:42:22.853943Z",
     "iopub.status.busy": "2024-06-25T18:42:22.853499Z",
     "iopub.status.idle": "2024-06-25T18:42:22.866011Z",
     "shell.execute_reply": "2024-06-25T18:42:22.864996Z"
    },
    "papermill": {
     "duration": 0.029436,
     "end_time": "2024-06-25T18:42:22.869130",
     "exception": false,
     "start_time": "2024-06-25T18:42:22.839694",
     "status": "completed"
    },
    "tags": []
   },
   "outputs": [],
   "source": [
    "X = df.drop('stroke',axis=1)\n",
    "y = df['stroke']\n",
    "X_train,X_valid,y_train,y_valid = train_test_split(X,y,test_size = 0.2,random_state=42) \n"
   ]
  },
  {
   "cell_type": "markdown",
   "id": "abafbaf2",
   "metadata": {
    "papermill": {
     "duration": 0.012184,
     "end_time": "2024-06-25T18:42:22.893990",
     "exception": false,
     "start_time": "2024-06-25T18:42:22.881806",
     "status": "completed"
    },
    "tags": []
   },
   "source": [
    "# Model Selection"
   ]
  },
  {
   "cell_type": "markdown",
   "id": "98d116d4",
   "metadata": {
    "papermill": {
     "duration": 0.012896,
     "end_time": "2024-06-25T18:42:23.074593",
     "exception": false,
     "start_time": "2024-06-25T18:42:23.061697",
     "status": "completed"
    },
    "tags": []
   },
   "source": [
    "**Train Logistic Regression Classifier**"
   ]
  },
  {
   "cell_type": "code",
   "execution_count": 16,
   "id": "6407e575",
   "metadata": {
    "execution": {
     "iopub.execute_input": "2024-06-25T18:42:28.205826Z",
     "iopub.status.busy": "2024-06-25T18:42:28.205336Z",
     "iopub.status.idle": "2024-06-25T18:42:28.289859Z",
     "shell.execute_reply": "2024-06-25T18:42:28.287961Z"
    },
    "papermill": {
     "duration": 0.104998,
     "end_time": "2024-06-25T18:42:28.294463",
     "exception": false,
     "start_time": "2024-06-25T18:42:28.189465",
     "status": "completed"
    },
    "tags": []
   },
   "outputs": [
    {
     "data": {
      "text/html": [
       "<style>#sk-container-id-1 {\n",
       "  /* Definition of color scheme common for light and dark mode */\n",
       "  --sklearn-color-text: black;\n",
       "  --sklearn-color-line: gray;\n",
       "  /* Definition of color scheme for unfitted estimators */\n",
       "  --sklearn-color-unfitted-level-0: #fff5e6;\n",
       "  --sklearn-color-unfitted-level-1: #f6e4d2;\n",
       "  --sklearn-color-unfitted-level-2: #ffe0b3;\n",
       "  --sklearn-color-unfitted-level-3: chocolate;\n",
       "  /* Definition of color scheme for fitted estimators */\n",
       "  --sklearn-color-fitted-level-0: #f0f8ff;\n",
       "  --sklearn-color-fitted-level-1: #d4ebff;\n",
       "  --sklearn-color-fitted-level-2: #b3dbfd;\n",
       "  --sklearn-color-fitted-level-3: cornflowerblue;\n",
       "\n",
       "  /* Specific color for light theme */\n",
       "  --sklearn-color-text-on-default-background: var(--sg-text-color, var(--theme-code-foreground, var(--jp-content-font-color1, black)));\n",
       "  --sklearn-color-background: var(--sg-background-color, var(--theme-background, var(--jp-layout-color0, white)));\n",
       "  --sklearn-color-border-box: var(--sg-text-color, var(--theme-code-foreground, var(--jp-content-font-color1, black)));\n",
       "  --sklearn-color-icon: #696969;\n",
       "\n",
       "  @media (prefers-color-scheme: dark) {\n",
       "    /* Redefinition of color scheme for dark theme */\n",
       "    --sklearn-color-text-on-default-background: var(--sg-text-color, var(--theme-code-foreground, var(--jp-content-font-color1, white)));\n",
       "    --sklearn-color-background: var(--sg-background-color, var(--theme-background, var(--jp-layout-color0, #111)));\n",
       "    --sklearn-color-border-box: var(--sg-text-color, var(--theme-code-foreground, var(--jp-content-font-color1, white)));\n",
       "    --sklearn-color-icon: #878787;\n",
       "  }\n",
       "}\n",
       "\n",
       "#sk-container-id-1 {\n",
       "  color: var(--sklearn-color-text);\n",
       "}\n",
       "\n",
       "#sk-container-id-1 pre {\n",
       "  padding: 0;\n",
       "}\n",
       "\n",
       "#sk-container-id-1 input.sk-hidden--visually {\n",
       "  border: 0;\n",
       "  clip: rect(1px 1px 1px 1px);\n",
       "  clip: rect(1px, 1px, 1px, 1px);\n",
       "  height: 1px;\n",
       "  margin: -1px;\n",
       "  overflow: hidden;\n",
       "  padding: 0;\n",
       "  position: absolute;\n",
       "  width: 1px;\n",
       "}\n",
       "\n",
       "#sk-container-id-1 div.sk-dashed-wrapped {\n",
       "  border: 1px dashed var(--sklearn-color-line);\n",
       "  margin: 0 0.4em 0.5em 0.4em;\n",
       "  box-sizing: border-box;\n",
       "  padding-bottom: 0.4em;\n",
       "  background-color: var(--sklearn-color-background);\n",
       "}\n",
       "\n",
       "#sk-container-id-1 div.sk-container {\n",
       "  /* jupyter's `normalize.less` sets `[hidden] { display: none; }`\n",
       "     but bootstrap.min.css set `[hidden] { display: none !important; }`\n",
       "     so we also need the `!important` here to be able to override the\n",
       "     default hidden behavior on the sphinx rendered scikit-learn.org.\n",
       "     See: https://github.com/scikit-learn/scikit-learn/issues/21755 */\n",
       "  display: inline-block !important;\n",
       "  position: relative;\n",
       "}\n",
       "\n",
       "#sk-container-id-1 div.sk-text-repr-fallback {\n",
       "  display: none;\n",
       "}\n",
       "\n",
       "div.sk-parallel-item,\n",
       "div.sk-serial,\n",
       "div.sk-item {\n",
       "  /* draw centered vertical line to link estimators */\n",
       "  background-image: linear-gradient(var(--sklearn-color-text-on-default-background), var(--sklearn-color-text-on-default-background));\n",
       "  background-size: 2px 100%;\n",
       "  background-repeat: no-repeat;\n",
       "  background-position: center center;\n",
       "}\n",
       "\n",
       "/* Parallel-specific style estimator block */\n",
       "\n",
       "#sk-container-id-1 div.sk-parallel-item::after {\n",
       "  content: \"\";\n",
       "  width: 100%;\n",
       "  border-bottom: 2px solid var(--sklearn-color-text-on-default-background);\n",
       "  flex-grow: 1;\n",
       "}\n",
       "\n",
       "#sk-container-id-1 div.sk-parallel {\n",
       "  display: flex;\n",
       "  align-items: stretch;\n",
       "  justify-content: center;\n",
       "  background-color: var(--sklearn-color-background);\n",
       "  position: relative;\n",
       "}\n",
       "\n",
       "#sk-container-id-1 div.sk-parallel-item {\n",
       "  display: flex;\n",
       "  flex-direction: column;\n",
       "}\n",
       "\n",
       "#sk-container-id-1 div.sk-parallel-item:first-child::after {\n",
       "  align-self: flex-end;\n",
       "  width: 50%;\n",
       "}\n",
       "\n",
       "#sk-container-id-1 div.sk-parallel-item:last-child::after {\n",
       "  align-self: flex-start;\n",
       "  width: 50%;\n",
       "}\n",
       "\n",
       "#sk-container-id-1 div.sk-parallel-item:only-child::after {\n",
       "  width: 0;\n",
       "}\n",
       "\n",
       "/* Serial-specific style estimator block */\n",
       "\n",
       "#sk-container-id-1 div.sk-serial {\n",
       "  display: flex;\n",
       "  flex-direction: column;\n",
       "  align-items: center;\n",
       "  background-color: var(--sklearn-color-background);\n",
       "  padding-right: 1em;\n",
       "  padding-left: 1em;\n",
       "}\n",
       "\n",
       "\n",
       "/* Toggleable style: style used for estimator/Pipeline/ColumnTransformer box that is\n",
       "clickable and can be expanded/collapsed.\n",
       "- Pipeline and ColumnTransformer use this feature and define the default style\n",
       "- Estimators will overwrite some part of the style using the `sk-estimator` class\n",
       "*/\n",
       "\n",
       "/* Pipeline and ColumnTransformer style (default) */\n",
       "\n",
       "#sk-container-id-1 div.sk-toggleable {\n",
       "  /* Default theme specific background. It is overwritten whether we have a\n",
       "  specific estimator or a Pipeline/ColumnTransformer */\n",
       "  background-color: var(--sklearn-color-background);\n",
       "}\n",
       "\n",
       "/* Toggleable label */\n",
       "#sk-container-id-1 label.sk-toggleable__label {\n",
       "  cursor: pointer;\n",
       "  display: block;\n",
       "  width: 100%;\n",
       "  margin-bottom: 0;\n",
       "  padding: 0.5em;\n",
       "  box-sizing: border-box;\n",
       "  text-align: center;\n",
       "}\n",
       "\n",
       "#sk-container-id-1 label.sk-toggleable__label-arrow:before {\n",
       "  /* Arrow on the left of the label */\n",
       "  content: \"▸\";\n",
       "  float: left;\n",
       "  margin-right: 0.25em;\n",
       "  color: var(--sklearn-color-icon);\n",
       "}\n",
       "\n",
       "#sk-container-id-1 label.sk-toggleable__label-arrow:hover:before {\n",
       "  color: var(--sklearn-color-text);\n",
       "}\n",
       "\n",
       "/* Toggleable content - dropdown */\n",
       "\n",
       "#sk-container-id-1 div.sk-toggleable__content {\n",
       "  max-height: 0;\n",
       "  max-width: 0;\n",
       "  overflow: hidden;\n",
       "  text-align: left;\n",
       "  /* unfitted */\n",
       "  background-color: var(--sklearn-color-unfitted-level-0);\n",
       "}\n",
       "\n",
       "#sk-container-id-1 div.sk-toggleable__content.fitted {\n",
       "  /* fitted */\n",
       "  background-color: var(--sklearn-color-fitted-level-0);\n",
       "}\n",
       "\n",
       "#sk-container-id-1 div.sk-toggleable__content pre {\n",
       "  margin: 0.2em;\n",
       "  border-radius: 0.25em;\n",
       "  color: var(--sklearn-color-text);\n",
       "  /* unfitted */\n",
       "  background-color: var(--sklearn-color-unfitted-level-0);\n",
       "}\n",
       "\n",
       "#sk-container-id-1 div.sk-toggleable__content.fitted pre {\n",
       "  /* unfitted */\n",
       "  background-color: var(--sklearn-color-fitted-level-0);\n",
       "}\n",
       "\n",
       "#sk-container-id-1 input.sk-toggleable__control:checked~div.sk-toggleable__content {\n",
       "  /* Expand drop-down */\n",
       "  max-height: 200px;\n",
       "  max-width: 100%;\n",
       "  overflow: auto;\n",
       "}\n",
       "\n",
       "#sk-container-id-1 input.sk-toggleable__control:checked~label.sk-toggleable__label-arrow:before {\n",
       "  content: \"▾\";\n",
       "}\n",
       "\n",
       "/* Pipeline/ColumnTransformer-specific style */\n",
       "\n",
       "#sk-container-id-1 div.sk-label input.sk-toggleable__control:checked~label.sk-toggleable__label {\n",
       "  color: var(--sklearn-color-text);\n",
       "  background-color: var(--sklearn-color-unfitted-level-2);\n",
       "}\n",
       "\n",
       "#sk-container-id-1 div.sk-label.fitted input.sk-toggleable__control:checked~label.sk-toggleable__label {\n",
       "  background-color: var(--sklearn-color-fitted-level-2);\n",
       "}\n",
       "\n",
       "/* Estimator-specific style */\n",
       "\n",
       "/* Colorize estimator box */\n",
       "#sk-container-id-1 div.sk-estimator input.sk-toggleable__control:checked~label.sk-toggleable__label {\n",
       "  /* unfitted */\n",
       "  background-color: var(--sklearn-color-unfitted-level-2);\n",
       "}\n",
       "\n",
       "#sk-container-id-1 div.sk-estimator.fitted input.sk-toggleable__control:checked~label.sk-toggleable__label {\n",
       "  /* fitted */\n",
       "  background-color: var(--sklearn-color-fitted-level-2);\n",
       "}\n",
       "\n",
       "#sk-container-id-1 div.sk-label label.sk-toggleable__label,\n",
       "#sk-container-id-1 div.sk-label label {\n",
       "  /* The background is the default theme color */\n",
       "  color: var(--sklearn-color-text-on-default-background);\n",
       "}\n",
       "\n",
       "/* On hover, darken the color of the background */\n",
       "#sk-container-id-1 div.sk-label:hover label.sk-toggleable__label {\n",
       "  color: var(--sklearn-color-text);\n",
       "  background-color: var(--sklearn-color-unfitted-level-2);\n",
       "}\n",
       "\n",
       "/* Label box, darken color on hover, fitted */\n",
       "#sk-container-id-1 div.sk-label.fitted:hover label.sk-toggleable__label.fitted {\n",
       "  color: var(--sklearn-color-text);\n",
       "  background-color: var(--sklearn-color-fitted-level-2);\n",
       "}\n",
       "\n",
       "/* Estimator label */\n",
       "\n",
       "#sk-container-id-1 div.sk-label label {\n",
       "  font-family: monospace;\n",
       "  font-weight: bold;\n",
       "  display: inline-block;\n",
       "  line-height: 1.2em;\n",
       "}\n",
       "\n",
       "#sk-container-id-1 div.sk-label-container {\n",
       "  text-align: center;\n",
       "}\n",
       "\n",
       "/* Estimator-specific */\n",
       "#sk-container-id-1 div.sk-estimator {\n",
       "  font-family: monospace;\n",
       "  border: 1px dotted var(--sklearn-color-border-box);\n",
       "  border-radius: 0.25em;\n",
       "  box-sizing: border-box;\n",
       "  margin-bottom: 0.5em;\n",
       "  /* unfitted */\n",
       "  background-color: var(--sklearn-color-unfitted-level-0);\n",
       "}\n",
       "\n",
       "#sk-container-id-1 div.sk-estimator.fitted {\n",
       "  /* fitted */\n",
       "  background-color: var(--sklearn-color-fitted-level-0);\n",
       "}\n",
       "\n",
       "/* on hover */\n",
       "#sk-container-id-1 div.sk-estimator:hover {\n",
       "  /* unfitted */\n",
       "  background-color: var(--sklearn-color-unfitted-level-2);\n",
       "}\n",
       "\n",
       "#sk-container-id-1 div.sk-estimator.fitted:hover {\n",
       "  /* fitted */\n",
       "  background-color: var(--sklearn-color-fitted-level-2);\n",
       "}\n",
       "\n",
       "/* Specification for estimator info (e.g. \"i\" and \"?\") */\n",
       "\n",
       "/* Common style for \"i\" and \"?\" */\n",
       "\n",
       ".sk-estimator-doc-link,\n",
       "a:link.sk-estimator-doc-link,\n",
       "a:visited.sk-estimator-doc-link {\n",
       "  float: right;\n",
       "  font-size: smaller;\n",
       "  line-height: 1em;\n",
       "  font-family: monospace;\n",
       "  background-color: var(--sklearn-color-background);\n",
       "  border-radius: 1em;\n",
       "  height: 1em;\n",
       "  width: 1em;\n",
       "  text-decoration: none !important;\n",
       "  margin-left: 1ex;\n",
       "  /* unfitted */\n",
       "  border: var(--sklearn-color-unfitted-level-1) 1pt solid;\n",
       "  color: var(--sklearn-color-unfitted-level-1);\n",
       "}\n",
       "\n",
       ".sk-estimator-doc-link.fitted,\n",
       "a:link.sk-estimator-doc-link.fitted,\n",
       "a:visited.sk-estimator-doc-link.fitted {\n",
       "  /* fitted */\n",
       "  border: var(--sklearn-color-fitted-level-1) 1pt solid;\n",
       "  color: var(--sklearn-color-fitted-level-1);\n",
       "}\n",
       "\n",
       "/* On hover */\n",
       "div.sk-estimator:hover .sk-estimator-doc-link:hover,\n",
       ".sk-estimator-doc-link:hover,\n",
       "div.sk-label-container:hover .sk-estimator-doc-link:hover,\n",
       ".sk-estimator-doc-link:hover {\n",
       "  /* unfitted */\n",
       "  background-color: var(--sklearn-color-unfitted-level-3);\n",
       "  color: var(--sklearn-color-background);\n",
       "  text-decoration: none;\n",
       "}\n",
       "\n",
       "div.sk-estimator.fitted:hover .sk-estimator-doc-link.fitted:hover,\n",
       ".sk-estimator-doc-link.fitted:hover,\n",
       "div.sk-label-container:hover .sk-estimator-doc-link.fitted:hover,\n",
       ".sk-estimator-doc-link.fitted:hover {\n",
       "  /* fitted */\n",
       "  background-color: var(--sklearn-color-fitted-level-3);\n",
       "  color: var(--sklearn-color-background);\n",
       "  text-decoration: none;\n",
       "}\n",
       "\n",
       "/* Span, style for the box shown on hovering the info icon */\n",
       ".sk-estimator-doc-link span {\n",
       "  display: none;\n",
       "  z-index: 9999;\n",
       "  position: relative;\n",
       "  font-weight: normal;\n",
       "  right: .2ex;\n",
       "  padding: .5ex;\n",
       "  margin: .5ex;\n",
       "  width: min-content;\n",
       "  min-width: 20ex;\n",
       "  max-width: 50ex;\n",
       "  color: var(--sklearn-color-text);\n",
       "  box-shadow: 2pt 2pt 4pt #999;\n",
       "  /* unfitted */\n",
       "  background: var(--sklearn-color-unfitted-level-0);\n",
       "  border: .5pt solid var(--sklearn-color-unfitted-level-3);\n",
       "}\n",
       "\n",
       ".sk-estimator-doc-link.fitted span {\n",
       "  /* fitted */\n",
       "  background: var(--sklearn-color-fitted-level-0);\n",
       "  border: var(--sklearn-color-fitted-level-3);\n",
       "}\n",
       "\n",
       ".sk-estimator-doc-link:hover span {\n",
       "  display: block;\n",
       "}\n",
       "\n",
       "/* \"?\"-specific style due to the `<a>` HTML tag */\n",
       "\n",
       "#sk-container-id-1 a.estimator_doc_link {\n",
       "  float: right;\n",
       "  font-size: 1rem;\n",
       "  line-height: 1em;\n",
       "  font-family: monospace;\n",
       "  background-color: var(--sklearn-color-background);\n",
       "  border-radius: 1rem;\n",
       "  height: 1rem;\n",
       "  width: 1rem;\n",
       "  text-decoration: none;\n",
       "  /* unfitted */\n",
       "  color: var(--sklearn-color-unfitted-level-1);\n",
       "  border: var(--sklearn-color-unfitted-level-1) 1pt solid;\n",
       "}\n",
       "\n",
       "#sk-container-id-1 a.estimator_doc_link.fitted {\n",
       "  /* fitted */\n",
       "  border: var(--sklearn-color-fitted-level-1) 1pt solid;\n",
       "  color: var(--sklearn-color-fitted-level-1);\n",
       "}\n",
       "\n",
       "/* On hover */\n",
       "#sk-container-id-1 a.estimator_doc_link:hover {\n",
       "  /* unfitted */\n",
       "  background-color: var(--sklearn-color-unfitted-level-3);\n",
       "  color: var(--sklearn-color-background);\n",
       "  text-decoration: none;\n",
       "}\n",
       "\n",
       "#sk-container-id-1 a.estimator_doc_link.fitted:hover {\n",
       "  /* fitted */\n",
       "  background-color: var(--sklearn-color-fitted-level-3);\n",
       "}\n",
       "</style><div id=\"sk-container-id-1\" class=\"sk-top-container\"><div class=\"sk-text-repr-fallback\"><pre>LogisticRegression()</pre><b>In a Jupyter environment, please rerun this cell to show the HTML representation or trust the notebook. <br />On GitHub, the HTML representation is unable to render, please try loading this page with nbviewer.org.</b></div><div class=\"sk-container\" hidden><div class=\"sk-item\"><div class=\"sk-estimator fitted sk-toggleable\"><input class=\"sk-toggleable__control sk-hidden--visually\" id=\"sk-estimator-id-1\" type=\"checkbox\" checked><label for=\"sk-estimator-id-1\" class=\"sk-toggleable__label fitted sk-toggleable__label-arrow fitted\">&nbsp;&nbsp;LogisticRegression<a class=\"sk-estimator-doc-link fitted\" rel=\"noreferrer\" target=\"_blank\" href=\"https://scikit-learn.org/1.5/modules/generated/sklearn.linear_model.LogisticRegression.html\">?<span>Documentation for LogisticRegression</span></a><span class=\"sk-estimator-doc-link fitted\">i<span>Fitted</span></span></label><div class=\"sk-toggleable__content fitted\"><pre>LogisticRegression()</pre></div> </div></div></div></div>"
      ],
      "text/plain": [
       "LogisticRegression()"
      ]
     },
     "execution_count": 16,
     "metadata": {},
     "output_type": "execute_result"
    }
   ],
   "source": [
    "# Instantiate Logistic Regression model\n",
    "logreg = LogisticRegression()\n",
    "\n",
    "# Train the model\n",
    "logreg.fit(X_train, y_train)\n"
   ]
  },
  {
   "cell_type": "markdown",
   "id": "b954f13b",
   "metadata": {},
   "source": [
    "Predict the model output"
   ]
  },
  {
   "cell_type": "code",
   "execution_count": 17,
   "id": "cf47183b",
   "metadata": {},
   "outputs": [
    {
     "name": "stdout",
     "output_type": "stream",
     "text": [
      "Accuracy: 0.9393346379647749\n"
     ]
    }
   ],
   "source": [
    "\n",
    "# Predict on validation set\n",
    "y_pred = logreg.predict(X_valid)\n",
    "\n",
    "# Calculate accuracy\n",
    "accuracy = accuracy_score(y_valid, y_pred)\n",
    "print(f'Accuracy: {accuracy}')"
   ]
  },
  {
   "cell_type": "markdown",
   "id": "89398742",
   "metadata": {},
   "source": [
    "# Model Training and Hyperparameter Tuning"
   ]
  },
  {
   "cell_type": "code",
   "execution_count": 18,
   "id": "77308b3a",
   "metadata": {},
   "outputs": [],
   "source": [
    "# from sklearn.ensemble import RandomForestClassifier\n",
    "# from sklearn.linear_model import LogisticRegression\n",
    "# from xgboost import XGBClassifier\n",
    "# from sklearn.model_selection import GridSearchCV\n",
    "\n",
    "# # Initialize models\n",
    "# xgb = XGBClassifier()\n",
    "# rf = RandomForestClassifier()\n",
    "# lr = LogisticRegression()\n",
    "\n",
    "# # Define parameter grid\n",
    "# param_grid_xgb = {'n_estimators': [100, 200], 'max_depth': [3, 6, 9]}\n",
    "# param_grid_rf = {'n_estimators': [100, 200], 'max_depth': [3, 6, 9]}\n",
    "# param_grid_lr = {'C': [0.1, 1, 10]}\n",
    "\n",
    "# # Grid search\n",
    "# grid_search_xgb = GridSearchCV(xgb, param_grid_xgb, cv=5)\n",
    "# grid_search_rf = GridSearchCV(rf, param_grid_rf, cv=5)\n",
    "# grid_search_lr = GridSearchCV(lr, param_grid_lr, cv=5)\n",
    "\n",
    "# # Fit models\n",
    "# grid_search_xgb.fit(X_train, y_train)\n",
    "# grid_search_rf.fit(X_train, y_train)\n",
    "# grid_search_lr.fit(X_train, y_train)\n"
   ]
  },
  {
   "cell_type": "markdown",
   "id": "2bb1644e",
   "metadata": {},
   "source": [
    "#  Model Evaluation"
   ]
  },
  {
   "cell_type": "code",
   "execution_count": 19,
   "id": "91b18b9b",
   "metadata": {},
   "outputs": [],
   "source": [
    "# from sklearn.metrics import accuracy_score\n",
    "\n",
    "# # Evaluate models\n",
    "# y_pred_xgb = grid_search_xgb.predict(X_valid)\n",
    "# y_pred_rf = grid_search_rf.predict(X_valid)\n",
    "# y_pred_lr = grid_search_lr.predict(X_valid)\n",
    "\n",
    "# print(f'XGBoost Accuracy: {accuracy_score(y_valid, y_pred_xgb)}')\n",
    "# print(f'Random Forest Accuracy: {accuracy_score(y_valid, y_pred_rf)}')\n",
    "# print(f'Logistic Regression Accuracy: {accuracy_score(y_valid, y_pred_lr)}')\n"
   ]
  },
  {
   "cell_type": "code",
   "execution_count": 26,
   "id": "b5cdef1f",
   "metadata": {},
   "outputs": [
    {
     "name": "stderr",
     "output_type": "stream",
     "text": [
      "2024/08/08 07:42:18 WARNING mlflow.models.model: Input example should be provided to infer model signature if the model signature is not provided when logging the model.\n",
      "2024/08/08 07:42:20 WARNING mlflow.models.model: Input example should be provided to infer model signature if the model signature is not provided when logging the model.\n",
      "2024/08/08 07:42:22 WARNING mlflow.models.model: Input example should be provided to infer model signature if the model signature is not provided when logging the model.\n",
      "Registered model 'MyModelName' already exists. Creating a new version of this model...\n",
      "Created version '2' of model 'MyModelName'.\n",
      "2024/08/08 07:42:34 WARNING mlflow.models.model: Input example should be provided to infer model signature if the model signature is not provided when logging the model.\n",
      "2024/08/08 07:42:36 WARNING mlflow.models.model: Input example should be provided to infer model signature if the model signature is not provided when logging the model.\n",
      "2024/08/08 07:42:38 WARNING mlflow.models.model: Input example should be provided to infer model signature if the model signature is not provided when logging the model.\n"
     ]
    },
    {
     "name": "stdout",
     "output_type": "stream",
     "text": [
      "XGBoost Accuracy: 0.9324853228962818\n",
      "Random Forest Accuracy: 0.9383561643835616\n",
      "Logistic Regression Accuracy: 0.9393346379647749\n"
     ]
    },
    {
     "name": "stderr",
     "output_type": "stream",
     "text": [
      "2024/08/08 07:42:40 WARNING mlflow.models.model: Input example should be provided to infer model signature if the model signature is not provided when logging the model.\n",
      "2024/08/08 07:42:42 WARNING mlflow.models.model: Input example should be provided to infer model signature if the model signature is not provided when logging the model.\n",
      "2024/08/08 07:42:43 WARNING mlflow.models.model: Input example should be provided to infer model signature if the model signature is not provided when logging the model.\n"
     ]
    }
   ],
   "source": [
    "from sklearn.metrics import accuracy_score\n",
    "from sklearn.ensemble import RandomForestClassifier\n",
    "from sklearn.linear_model import LogisticRegression\n",
    "from xgboost import XGBClassifier\n",
    "from sklearn.model_selection import GridSearchCV\n",
    "import mlflow\n",
    "import mlflow.sklearn\n",
    "import psutil\n",
    "import time  # For time-based metrics\n",
    "\n",
    "# Start MLflow experiment\n",
    "mlflow.set_experiment(\"Healthcare_Model_Experiment\")\n",
    "\n",
    "try:\n",
    "    with mlflow.start_run() as run:\n",
    "        # Record start time\n",
    "        start_time = time.time()\n",
    "        mlflow.log_param(\"start_time\", time.strftime(\"%Y-%m-%d %H:%M:%S\"))\n",
    "\n",
    "        # Log system metrics before training\n",
    "        cpu_start = psutil.cpu_percent(interval=None)\n",
    "        memory_start = psutil.virtual_memory().percent\n",
    "        mlflow.log_metric(\"CPU_Usage_Start Before train\", cpu_start)\n",
    "        mlflow.log_metric(\"Memory_Usage_Start Before train\", memory_start)\n",
    "        \n",
    "        # Initialize models\n",
    "        xgb_model = XGBClassifier()\n",
    "        rf_model= RandomForestClassifier()\n",
    "        lr_model = LogisticRegression()\n",
    "\n",
    "        mlflow.sklearn.log_model(xgb_model, \"xgb_model\")\n",
    "        mlflow.sklearn.log_model(rf_model, \"rf_model\")\n",
    "        mlflow.sklearn.log_model(lr_model, \"lr_model\")\n",
    "\n",
    "        # Register the models\n",
    "        # model_uri = \"runs:/{}/model\".format(run.info.run_id)\n",
    "        # result = mlflow.register_model(model_uri, \"MyModelName\")\n",
    "\n",
    "        # Log xgboost model\n",
    "        mlflow.sklearn.log_model(xgb_model, \"xgb_model\")\n",
    "        xgb_model_uri = f\"runs:/{run.info.run_id}/xgb_model\"\n",
    "        xgb_result = mlflow.register_model(xgb_model_uri, \"xgboostModel\")\n",
    "        print(f\"xgboost model registered with name: {xgb_result.name}\")\n",
    "        print(f\"xgboost model version: {xgb_result.version}\")\n",
    "\n",
    "        # Log RandomForest model\n",
    "        mlflow.sklearn.log_model(rf_model, \"rf_model\")\n",
    "        rf_model_uri = f\"runs:/{run.info.run_id}/rf_model\"\n",
    "        rf_result = mlflow.register_model(rf_model_uri, \"RandomForestModel\")\n",
    "        print(f\"RandomForest model registered with name: {rf_result.name}\")\n",
    "        print(f\"RandomForest model version: {rf_result.version}\")\n",
    "        \n",
    "        # Log Logisticregression model\n",
    "        mlflow.sklearn.log_model(lr_model, \"lr_model\")\n",
    "        lr_model_uri = f\"runs:/{run.info.run_id}/lr_model\"\n",
    "        lr_result = mlflow.register_model(lr_model_uri, \"Logisticregression\")\n",
    "        print(f\"Logisticregression model registered with name: {lr_result.name}\")\n",
    "        print(f\"Logisticregression model version: {lr_result.version}\")\n",
    "\n",
    "        # Define parameter grid\n",
    "        param_grid_xgb = {'n_estimators': [100, 200], 'max_depth': [3, 6, 9]}\n",
    "        param_grid_rf = {'n_estimators': [100, 200], 'max_depth': [3, 6, 9]}\n",
    "        param_grid_lr = {'C': [0.1, 1, 10]}\n",
    "\n",
    "        # Grid search\n",
    "        grid_search_xgb = GridSearchCV(xgb_model, param_grid_xgb, cv=5)\n",
    "        grid_search_rf = GridSearchCV(rf_model, param_grid_rf, cv=5)\n",
    "        grid_search_lr = GridSearchCV(lr_model, param_grid_lr, cv=5)\n",
    "\n",
    "        # Fit models\n",
    "        grid_search_xgb.fit(X_train, y_train)\n",
    "        grid_search_rf.fit(X_train, y_train)\n",
    "        grid_search_lr.fit(X_train, y_train)\n",
    "        \n",
    "        # Evaluate models\n",
    "        y_pred_xgb = grid_search_xgb.predict(X_valid)\n",
    "        y_pred_rf = grid_search_rf.predict(X_valid)\n",
    "        y_pred_lr = grid_search_lr.predict(X_valid)\n",
    "\n",
    "        xgb_accuracy = accuracy_score(y_valid, y_pred_xgb)\n",
    "        rf_accuracy = accuracy_score(y_valid, y_pred_rf)\n",
    "        lr_accuracy = accuracy_score(y_valid, y_pred_lr)\n",
    "\n",
    "        print(f'XGBoost Accuracy: {xgb_accuracy}')\n",
    "        mlflow.log_metric(\"XGBoost_Accuracy\", xgb_accuracy)\n",
    "        \n",
    "        print(f'Random Forest Accuracy: {rf_accuracy}')\n",
    "        mlflow.log_metric(\"Random_Forest_Accuracy\", rf_accuracy)\n",
    "        \n",
    "        print(f'Logistic Regression Accuracy: {lr_accuracy}')\n",
    "        mlflow.log_metric(\"Logistic_Regression_Accuracy\", lr_accuracy)\n",
    "\n",
    "        # Log models\n",
    "        mlflow.sklearn.log_model(grid_search_xgb.best_estimator_, \"xgboost_model\")\n",
    "        mlflow.sklearn.log_model(grid_search_rf.best_estimator_, \"random_forest_model\")\n",
    "        mlflow.sklearn.log_model(grid_search_lr.best_estimator_, \"logistic_regression_model\")\n",
    "\n",
    "        # Log system metrics after training\n",
    "        cpu_end = psutil.cpu_percent(interval=None)\n",
    "        memory_end = psutil.virtual_memory().percent\n",
    "        mlflow.log_metric(\"CPU_Usage_End after train\", cpu_end)\n",
    "        mlflow.log_metric(\"Memory_Usage_End after train\", memory_end)\n",
    "\n",
    "        # Log duration of training\n",
    "        duration = time.time() - start_time\n",
    "        mlflow.log_metric(\"Training_Duration_Seconds\", duration)\n",
    "\n",
    "except Exception as e:\n",
    "    print(f\"Exception occurred: {e}\")\n",
    "\n",
    "finally:\n",
    "    mlflow.end_run()  # Ensure the MLflow run is ended even if an exception occurs\n"
   ]
  },
  {
   "cell_type": "markdown",
   "id": "3d1ac00a",
   "metadata": {},
   "source": [
    "# Save the Best Model"
   ]
  },
  {
   "cell_type": "code",
   "execution_count": 21,
   "id": "a049a562",
   "metadata": {},
   "outputs": [
    {
     "data": {
      "text/plain": [
       "['best_model.pkl']"
      ]
     },
     "execution_count": 21,
     "metadata": {},
     "output_type": "execute_result"
    }
   ],
   "source": [
    "import joblib\n",
    "\n",
    "# Save the best model\n",
    "best_model = grid_search_lr.best_estimator_\n",
    "joblib.dump(best_model, 'best_model.pkl')\n"
   ]
  },
  {
   "cell_type": "markdown",
   "id": "b67fb202",
   "metadata": {},
   "source": [
    "# MLflow Tracking"
   ]
  },
  {
   "cell_type": "code",
   "execution_count": 22,
   "id": "25290eec",
   "metadata": {},
   "outputs": [],
   "source": [
    "# import mlflow\n",
    "# import mlflow.sklearn\n",
    "\n",
    "# # Start MLflow run\n",
    "# with mlflow.start_run():\n",
    "#     mlflow.log_param('Model', 'lr')\n",
    "#     mlflow.log_param('Best Params', grid_search_lr.best_params_)\n",
    "#     mlflow.log_metric('Accuracy', accuracy_score(y_valid, y_pred_lr))\n",
    "#     mlflow.sklearn.log_model(best_model, 'model')\n"
   ]
  },
  {
   "cell_type": "code",
   "execution_count": 23,
   "id": "6b07e5a1",
   "metadata": {},
   "outputs": [
    {
     "name": "stderr",
     "output_type": "stream",
     "text": [
      "2024/08/08 07:20:21 WARNING mlflow.models.model: Input example should be provided to infer model signature if the model signature is not provided when logging the model.\n",
      "2024/08/08 07:20:23 WARNING mlflow.models.model: Input example should be provided to infer model signature if the model signature is not provided when logging the model.\n",
      "2024/08/08 07:20:25 WARNING mlflow.models.model: Input example should be provided to infer model signature if the model signature is not provided when logging the model.\n"
     ]
    },
    {
     "name": "stdout",
     "output_type": "stream",
     "text": [
      "XGBoost Accuracy: 0.9324853228962818\n",
      "Random Forest Accuracy: 0.9383561643835616\n",
      "Logistic Regression Accuracy: 0.9393346379647749\n"
     ]
    },
    {
     "name": "stderr",
     "output_type": "stream",
     "text": [
      "2024/08/08 07:20:27 WARNING mlflow.models.model: Input example should be provided to infer model signature if the model signature is not provided when logging the model.\n",
      "2024/08/08 07:20:28 WARNING mlflow.models.model: Input example should be provided to infer model signature if the model signature is not provided when logging the model.\n",
      "2024/08/08 07:20:30 WARNING mlflow.models.model: Input example should be provided to infer model signature if the model signature is not provided when logging the model.\n"
     ]
    }
   ],
   "source": [
    "from sklearn.metrics import accuracy_score\n",
    "from sklearn.ensemble import RandomForestClassifier\n",
    "from sklearn.linear_model import LogisticRegression\n",
    "from xgboost import XGBClassifier\n",
    "from sklearn.model_selection import GridSearchCV\n",
    "import mlflow\n",
    "import mlflow.sklearn\n",
    "import psutil\n",
    "import time  # For time-based metrics\n",
    "\n",
    "# Start MLflow experiment\n",
    "mlflow.set_experiment(\"Healthcare_Model_Experiment\")\n",
    "\n",
    "try:\n",
    "    with mlflow.start_run():\n",
    "        # Record start time\n",
    "        start_time = time.time()\n",
    "        mlflow.log_param(\"start_time\", time.strftime(\"%Y-%m-%d %H:%M:%S\"))\n",
    "\n",
    "        # Log system metrics before training\n",
    "        cpu_start = psutil.cpu_percent(interval=None)\n",
    "        memory_start = psutil.virtual_memory().percent\n",
    "        mlflow.log_metric(\"CPU_Usage_Start\", cpu_start)\n",
    "        mlflow.log_metric(\"Memory_Usage_Start\", memory_start)\n",
    "        \n",
    "        # Initialize models\n",
    "        xgb = XGBClassifier()\n",
    "        rf = RandomForestClassifier()\n",
    "        lr = LogisticRegression()\n",
    "\n",
    "        # Define parameter grid\n",
    "        param_grid_xgb = {'n_estimators': [100, 200], 'max_depth': [3, 6, 9]}\n",
    "        param_grid_rf = {'n_estimators': [100, 200], 'max_depth': [3, 6, 9]}\n",
    "        param_grid_lr = {'C': [0.1, 1, 10]}\n",
    "\n",
    "        # Grid search\n",
    "        grid_search_xgb = GridSearchCV(xgb, param_grid_xgb, cv=5)\n",
    "        grid_search_rf = GridSearchCV(rf, param_grid_rf, cv=5)\n",
    "        grid_search_lr = GridSearchCV(lr, param_grid_lr, cv=5)\n",
    "\n",
    "        # Fit models\n",
    "        grid_search_xgb.fit(X_train, y_train)\n",
    "        grid_search_rf.fit(X_train, y_train)\n",
    "        grid_search_lr.fit(X_train, y_train)\n",
    "        \n",
    "        # Register models\n",
    "        xgb_model_path = \"models/xgb_model\"\n",
    "        rf_model_path = \"models/rf_model\"\n",
    "        lr_model_path = \"models/lr_model\"\n",
    "        \n",
    "        mlflow.sklearn.log_model(grid_search_xgb.best_estimator_, xgb_model_path)\n",
    "        mlflow.sklearn.log_model(grid_search_rf.best_estimator_, rf_model_path)\n",
    "        mlflow.sklearn.log_model(grid_search_lr.best_estimator_, lr_model_path)\n",
    "        \n",
    "        # Evaluate models\n",
    "        y_pred_xgb = grid_search_xgb.predict(X_valid)\n",
    "        y_pred_rf = grid_search_rf.predict(X_valid)\n",
    "        y_pred_lr = grid_search_lr.predict(X_valid)\n",
    "\n",
    "        xgb_accuracy = accuracy_score(y_valid, y_pred_xgb)\n",
    "        rf_accuracy = accuracy_score(y_valid, y_pred_rf)\n",
    "        lr_accuracy = accuracy_score(y_valid, y_pred_lr)\n",
    "\n",
    "        print(f'XGBoost Accuracy: {xgb_accuracy}')\n",
    "        mlflow.log_metric(\"XGBoost_Accuracy\", xgb_accuracy)\n",
    "        \n",
    "        print(f'Random Forest Accuracy: {rf_accuracy}')\n",
    "        mlflow.log_metric(\"Random_Forest_Accuracy\", rf_accuracy)\n",
    "        \n",
    "        print(f'Logistic Regression Accuracy: {lr_accuracy}')\n",
    "        mlflow.log_metric(\"Logistic_Regression_Accuracy\", lr_accuracy)\n",
    "\n",
    "        # Log models\n",
    "        mlflow.sklearn.log_model(grid_search_xgb.best_estimator_, \"xgboost_model\")\n",
    "        mlflow.sklearn.log_model(grid_search_rf.best_estimator_, \"random_forest_model\")\n",
    "        mlflow.sklearn.log_model(grid_search_lr.best_estimator_, \"logistic_regression_model\")\n",
    "\n",
    "        # Log system metrics after training\n",
    "        cpu_end = psutil.cpu_percent(interval=None)\n",
    "        memory_end = psutil.virtual_memory().percent\n",
    "        mlflow.log_metric(\"CPU_Usage_End\", cpu_end)\n",
    "        mlflow.log_metric(\"Memory_Usage_End\", memory_end)\n",
    "\n",
    "        # Log duration of training\n",
    "        duration = time.time() - start_time\n",
    "        mlflow.log_metric(\"Training_Duration_Seconds\", duration)\n",
    "\n",
    "except Exception as e:\n",
    "    print(f\"Exception occurred: {e}\")\n",
    "\n",
    "finally:\n",
    "    mlflow.end_run()  # Ensure the MLflow run is ended even if an exception occurs\n"
   ]
  },
  {
   "cell_type": "code",
   "execution_count": 24,
   "id": "4f1f8633",
   "metadata": {},
   "outputs": [
    {
     "name": "stdout",
     "output_type": "stream",
     "text": [
      "Exception occurred: connection to server at \"localhost\" (::1), port 5432 failed: Connection refused\n",
      "\tIs the server running on that host and accepting TCP/IP connections?\n",
      "connection to server at \"localhost\" (127.0.0.1), port 5432 failed: Connection refused\n",
      "\tIs the server running on that host and accepting TCP/IP connections?\n",
      "\n"
     ]
    }
   ],
   "source": [
    "from sklearn.metrics import accuracy_score\n",
    "from sklearn.ensemble import RandomForestClassifier\n",
    "from sklearn.linear_model import LogisticRegression\n",
    "from xgboost import XGBClassifier\n",
    "from sklearn.model_selection import GridSearchCV\n",
    "import mlflow\n",
    "import mlflow.sklearn\n",
    "import psutil\n",
    "import time\n",
    "import psycopg2\n",
    "\n",
    "# Database connection settings\n",
    "DB_SETTINGS = {\n",
    "    \"dbname\": \"metrics_db\",\n",
    "    \"user\": \"your_user\",\n",
    "    \"password\": \"your_password\",\n",
    "    \"host\": \"localhost\",\n",
    "    \"port\": 5432\n",
    "}\n",
    "\n",
    "# Function to push metrics to PostgreSQL\n",
    "def push_metrics_to_db(metric_name, metric_value):\n",
    "    conn = psycopg2.connect(**DB_SETTINGS)\n",
    "    cur = conn.cursor()\n",
    "    cur.execute(\"INSERT INTO metrics (metric_name, metric_value) VALUES (%s, %s);\", (metric_name, metric_value))\n",
    "    conn.commit()\n",
    "    cur.close()\n",
    "    conn.close()\n",
    "\n",
    "# Function to train and evaluate models\n",
    "def train_and_evaluate_models(X_train, y_train, X_valid, y_valid):\n",
    "    # Initialize models\n",
    "    xgb = XGBClassifier()\n",
    "    rf = RandomForestClassifier()\n",
    "    lr = LogisticRegression()\n",
    "\n",
    "    # Define parameter grid\n",
    "    param_grid_xgb = {'n_estimators': [100, 200], 'max_depth': [3, 6, 9]}\n",
    "    param_grid_rf = {'n_estimators': [100, 200], 'max_depth': [3, 6, 9]}\n",
    "    param_grid_lr = {'C': [0.1, 1, 10]}\n",
    "\n",
    "    # Grid search\n",
    "    grid_search_xgb = GridSearchCV(xgb, param_grid_xgb, cv=5)\n",
    "    grid_search_rf = GridSearchCV(rf, param_grid_rf, cv=5)\n",
    "    grid_search_lr = GridSearchCV(lr, param_grid_lr, cv=5)\n",
    "\n",
    "    # Fit models\n",
    "    grid_search_xgb.fit(X_train, y_train)\n",
    "    grid_search_rf.fit(X_train, y_train)\n",
    "    grid_search_lr.fit(X_train, y_train)\n",
    "\n",
    "    # Evaluate models\n",
    "    y_pred_xgb = grid_search_xgb.predict(X_valid)\n",
    "    y_pred_rf = grid_search_rf.predict(X_valid)\n",
    "    y_pred_lr = grid_search_lr.predict(X_valid)\n",
    "\n",
    "    xgb_accuracy = accuracy_score(y_valid, y_pred_xgb)\n",
    "    rf_accuracy = accuracy_score(y_valid, y_pred_rf)\n",
    "    lr_accuracy = accuracy_score(y_valid, y_pred_lr)\n",
    "\n",
    "    return {\n",
    "        \"xgb_model\": grid_search_xgb.best_estimator_,\n",
    "        \"rf_model\": grid_search_rf.best_estimator_,\n",
    "        \"lr_model\": grid_search_lr.best_estimator_,\n",
    "        \"xgb_accuracy\": xgb_accuracy,\n",
    "        \"rf_accuracy\": rf_accuracy,\n",
    "        \"lr_accuracy\": lr_accuracy\n",
    "    }\n",
    "\n",
    "# Start MLflow experiment\n",
    "mlflow.set_experiment(\"Healthcare_Model_Experiment\")\n",
    "\n",
    "try:\n",
    "    # Record start time\n",
    "    start_time = time.time()\n",
    "    mlflow.log_param(\"start_time\", time.strftime(\"%Y-%m-%d %H:%M:%S\"))\n",
    "\n",
    "    # Log system metrics before training\n",
    "    cpu_start = psutil.cpu_percent(interval=None)\n",
    "    memory_start = psutil.virtual_memory().percent\n",
    "    push_metrics_to_db(\"CPU_Usage_Start\", cpu_start)\n",
    "    push_metrics_to_db(\"Memory_Usage_Start\", memory_start)\n",
    "\n",
    "    # Initial training and evaluation\n",
    "    results = train_and_evaluate_models(X_train, y_train, X_valid, y_valid)\n",
    "\n",
    "    # Log initial metrics\n",
    "    print(f'Initial XGBoost Accuracy: {results[\"xgb_accuracy\"]}')\n",
    "    mlflow.log_metric(\"XGBoost_Accuracy\", results[\"xgb_accuracy\"])\n",
    "    push_metrics_to_db(\"XGBoost_Accuracy\", results[\"xgb_accuracy\"])\n",
    "    \n",
    "    print(f'Initial Random Forest Accuracy: {results[\"rf_accuracy\"]}')\n",
    "    mlflow.log_metric(\"Random_Forest_Accuracy\", results[\"rf_accuracy\"])\n",
    "    push_metrics_to_db(\"Random_Forest_Accuracy\", results[\"rf_accuracy\"])\n",
    "    \n",
    "    print(f'Initial Logistic Regression Accuracy: {results[\"lr_accuracy\"]}')\n",
    "    mlflow.log_metric(\"Logistic_Regression_Accuracy\", results[\"lr_accuracy\"])\n",
    "    push_metrics_to_db(\"Logistic_Regression_Accuracy\", results[\"lr_accuracy\"])\n",
    "\n",
    "    # Log models\n",
    "    mlflow.sklearn.log_model(results[\"xgb_model\"], \"xgboost_model\")\n",
    "    mlflow.sklearn.log_model(results[\"rf_model\"], \"random_forest_model\")\n",
    "    mlflow.sklearn.log_model(results[\"lr_model\"], \"logistic_regression_model\")\n",
    "\n",
    "    # Example of a retrain mechanism\n",
    "    # Set a threshold for improvement\n",
    "    improvement_threshold = 0.01  # 1% improvement\n",
    "\n",
    "    # Assume previous accuracy (for demonstration purposes, in a real scenario this would be loaded from previous runs)\n",
    "    previous_xgb_accuracy = 0.90  # Example previous accuracy\n",
    "    previous_rf_accuracy = 0.90\n",
    "    previous_lr_accuracy = 0.90\n",
    "\n",
    "    # Check if retraining is needed\n",
    "    if results[\"xgb_accuracy\"] > previous_xgb_accuracy + improvement_threshold:\n",
    "        print(\"Retraining XGBoost model due to improved accuracy.\")\n",
    "        # Retrain or update XGBoost model as needed\n",
    "        results[\"xgb_model\"] = train_and_evaluate_models(X_train, y_train, X_valid, y_valid)[\"xgb_model\"]\n",
    "\n",
    "    if results[\"rf_accuracy\"] > previous_rf_accuracy + improvement_threshold:\n",
    "        print(\"Retraining Random Forest model due to improved accuracy.\")\n",
    "        # Retrain or update Random Forest model as needed\n",
    "        results[\"rf_model\"] = train_and_evaluate_models(X_train, y_train, X_valid, y_valid)[\"rf_model\"]\n",
    "\n",
    "    if results[\"lr_accuracy\"] > previous_lr_accuracy + improvement_threshold:\n",
    "        print(\"Retraining Logistic Regression model due to improved accuracy.\")\n",
    "        # Retrain or update Logistic Regression model as needed\n",
    "        results[\"lr_model\"] = train_and_evaluate_models(X_train, y_train, X_valid, y_valid)[\"lr_model\"]\n",
    "\n",
    "    # Log system metrics after training\n",
    "    cpu_end = psutil.cpu_percent(interval=None)\n",
    "    memory_end = psutil.virtual_memory().percent\n",
    "    push_metrics_to_db(\"CPU_Usage_End\", cpu_end)\n",
    "    push_metrics_to_db(\"Memory_Usage_End\", memory_end)\n",
    "\n",
    "    # Log duration of training\n",
    "    duration = time.time() - start_time\n",
    "    mlflow.log_metric(\"Training_Duration_Seconds\", duration)\n",
    "    push_metrics_to_db(\"Training_Duration_Seconds\", duration)\n",
    "\n",
    "except Exception as e:\n",
    "    print(f\"Exception occurred: {e}\")\n",
    "\n",
    "finally:\n",
    "    mlflow.end_run()  # Ensure the MLflow run is ended even if an exception occurs\n"
   ]
  }
 ],
 "metadata": {
  "kaggle": {
   "accelerator": "none",
   "dataSources": [
    {
     "datasetId": 1120859,
     "sourceId": 1882037,
     "sourceType": "datasetVersion"
    }
   ],
   "dockerImageVersionId": 30732,
   "isGpuEnabled": false,
   "isInternetEnabled": true,
   "language": "python",
   "sourceType": "notebook"
  },
  "kernelspec": {
   "display_name": "Python 3 (ipykernel)",
   "language": "python",
   "name": "python3"
  },
  "language_info": {
   "codemirror_mode": {
    "name": "ipython",
    "version": 3
   },
   "file_extension": ".py",
   "mimetype": "text/x-python",
   "name": "python",
   "nbconvert_exporter": "python",
   "pygments_lexer": "ipython3",
   "version": "3.10.13"
  },
  "papermill": {
   "default_parameters": {},
   "duration": 16.614442,
   "end_time": "2024-06-25T18:42:30.022664",
   "environment_variables": {},
   "exception": null,
   "input_path": "__notebook__.ipynb",
   "output_path": "__notebook__.ipynb",
   "parameters": {},
   "start_time": "2024-06-25T18:42:13.408222",
   "version": "2.5.0"
  }
 },
 "nbformat": 4,
 "nbformat_minor": 5
}
